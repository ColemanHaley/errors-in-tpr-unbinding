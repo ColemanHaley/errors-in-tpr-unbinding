{
 "cells": [
  {
   "cell_type": "markdown",
   "metadata": {},
   "source": [
    "# Errors in TPR Unbinding\n",
    "-----\n",
    "#### Paul Smolensky and Coleman Haley\n",
    "\n",
    "In this notebook, we provide theoretical and experimental results on the error rate of TPR binding. We show that this error is bounded in a theoretical worst case, that this theoretical error is experimentally validated, and that empirically error appears to be lower in cases other than the theoretical worse case. We consider experiments for empirical error in the case of totally random distribution of bound vectors, as well as distributions from real-world applications of TPRs in the domain of natural language processing. We show that the error increases nicely (:P) as a function of the ratio of filler vectors to role vectors."
   ]
  },
  {
   "cell_type": "markdown",
   "metadata": {},
   "source": [
    "## 1.    Setting"
   ]
  },
  {
   "cell_type": "code",
   "execution_count": 1,
   "metadata": {},
   "outputs": [],
   "source": [
    "import numpy as np\n",
    "import matplotlib.pyplot as plt\n",
    "import torch\n",
    "%matplotlib inline \n",
    "#from ipywidgets import interact, interactive, fixed, interact_manual\n",
    "#import ipywidgets as widgets"
   ]
  },
  {
   "cell_type": "markdown",
   "metadata": {},
   "source": [
    "We assume a random set of $k+1$ role vectors $\\{\\hat{r}_i\\}^k_{i=0}$ (independently uniformly distributed on the unit sphere $S^{n-1}\\subset\\mathbb{R}^n$) has been chosen (from among a possibly much larger set of possible roles $\\mathcal{R}$):\n",
    "\\begin{equation}\n",
    "\\hat{\\mathbf{r}}_i\\sim\\mathcal{U}(S^{n-1})\\;\\;i.i.d.\\;\\;i=0,...,k\n",
    "\\end{equation}\n"
   ]
  },
  {
   "cell_type": "code",
   "execution_count": 22,
   "metadata": {},
   "outputs": [],
   "source": [
    "\n",
    "# https://stackoverflow.com/questions/33976911/generate-a-random-sample-of-points-distributed-on-the-surface-of-a-unit-sphere\n",
    "def sample_spherical(npoints, ndim):\n",
    "    vec = np.random.randn(ndim, npoints)\n",
    "    vec /= np.linalg.norm(vec, axis=0)\n",
    "\n",
    "    return vec\n",
    "\n",
    "#rhats = sample_spherical(npoints=k+1, ndim=n)"
   ]
  },
  {
   "cell_type": "code",
   "execution_count": 27,
   "metadata": {},
   "outputs": [],
   "source": [
    "def torch_sample_spherical(npoints, ndim, nsamples):\n",
    "    vecs = torch.randn(ndim, npoints, nsamples)\n",
    "    vecs /= torch.norm(vecs, dim=0)\n",
    "    \n",
    "    return vecs"
   ]
  },
  {
   "cell_type": "markdown",
   "metadata": {},
   "source": [
    "and for each role $\\hat{\\mathbf{r}}_i$ a unit-norm filler vector $\\hat{\\mathbf{f}}_i$ has been chosen from among an inventory of $N$ possibilities $\\mathcal{F}=\\{\\hat{\\mathbf{f}}_j\\}^{N}_{j=1}\\subset\\mathbb{R}^d$. We are mostly interested in the case $n \\gg 1, k \\gg 1, k < n$. The resulting TPR for this role/filler structure is:\n",
    "\\begin{equation}\n",
    "\\mathbf{T} = \\sum^{k}_{i=0} \\hat{\\mathbf{f}}_i \\otimes \\hat{\\mathbf{r}}_i \\in \\mathbb{R}^d \\otimes \\mathbb{R}^n\n",
    "\\end{equation}"
   ]
  },
  {
   "cell_type": "code",
   "execution_count": 4,
   "metadata": {},
   "outputs": [],
   "source": [
    "# def TPR(fillers, roles):\n",
    "#     # roles and need to be passed in an order such that the i-th role should be bound to the i-th filler\n",
    "#     T = sum([np.outer(fillers[i], rhats[i]) for i in range(len(fillers))])\n",
    "#     return T"
   ]
  },
  {
   "cell_type": "markdown",
   "metadata": {},
   "source": [
    "Our question concerns retrieving or undbinding the filler of a given role $\\hat{\\mathbf{r}}_0$. We assume retrieval/unbinding by the inner product; the retrieved vector $\\tilde{\\mathbf{f}}$ is\n",
    "\\begin{align}\n",
    "\\tilde{\\mathbf{f}} &= \\mathbf{T} \\cdot \\hat{\\mathbf{r}}_{0} \\\\\n",
    "                   &= \\hat{\\mathbf{f}}_0 + \\sum^k_{i=1}(\\hat{\\mathbf{r}}_i \\cdot \\hat{\\mathbf{r}}_0)\\hat{\\mathbf{f}}_i\n",
    "\\end{align}\n",
    "Let the correct result be denoted $\\hat{\\mathbf{A}}: \\hat{\\mathbf{f}}_0 = \\hat{\\mathbf{A}}$. Thus the undesired fillers $\\hat{\\mathbf{f}}_i, i > 0$  *intrude* into the retrieval of the correct filler $\\hat{\\mathbf{A}}$.\n",
    "\n",
    "If $\\{\\hat{\\mathbf{f}}_i\\}_i$ is widely scattered on $S^{d-1}$, then for each of the $d$ components of the sum in (4) (NOTE: HAVEN'T FIGURED OUT NUMBERING) there will be cancellation."
   ]
  },
  {
   "cell_type": "markdown",
   "metadata": {},
   "source": [
    "## 2. Theoretical Note: Type 1 Error\n",
    "\n",
    "TO BE COPIED FROM THE ORIGINAL DOC."
   ]
  },
  {
   "cell_type": "code",
   "execution_count": 7,
   "metadata": {},
   "outputs": [
    {
     "data": {
      "image/png": "[encoded data removed]",
      "text/plain": [
       "<Figure size 432x288 with 1 Axes>"
      ]
     },
     "metadata": {
      "needs_background": "light"
     },
     "output_type": "display_data"
    }
   ],
   "source": [
    "import math\n",
    "n=500 # dimension of role vectors\n",
    "ks = np.array(range(1,1000)) # k is the number of bindings\n",
    "perror = np.exp(-n/(2*ks))/(np.sqrt(2*math.pi*n/ks))\n",
    "\n",
    "plt.plot(ks,perror)\n",
    "\n",
    "plt.title('Theoretical Type 1 error as a function of k with n=500')\n",
    "plt.xlabel('Number of bound role vectors')\n",
    "plt.ylabel('Probability of Error')\n",
    "\n",
    "plt.show()"
   ]
  },
  {
   "cell_type": "markdown",
   "metadata": {},
   "source": [
    "## 3. Type 1 Error, Empirically\n",
    "\n",
    "We can validate this theoretical bound with an empirical experiment, using an approach we will extend to estimate error probabilities for other theoretical and real-world scenarios in which it is harder to obtain an appropriate bound. We do this by performing a concrete number of random samples of role vectors and which roles are bound to them and then calculating the number of errors made, repeating the process several times to get an estimate of error probability. We also once random sample filler vectors, but we do not resample the vectors themselves, as there are many fillers and unbinding performance does not generally depend on their distribution."
   ]
  },
  {
   "cell_type": "code",
   "execution_count": 10,
   "metadata": {},
   "outputs": [
    {
     "ename": "NameError",
     "evalue": "name 'sample_spherical' is not defined",
     "output_type": "error",
     "traceback": [
      "\u001b[0;31m---------------------------------------------------------------------------\u001b[0m",
      "\u001b[0;31mNameError\u001b[0m                                 Traceback (most recent call last)",
      "\u001b[0;32m<ipython-input-10-6951f8a574d6>\u001b[0m in \u001b[0;36m<module>\u001b[0;34m\u001b[0m\n\u001b[1;32m      1\u001b[0m \u001b[0md\u001b[0m \u001b[0;34m=\u001b[0m \u001b[0;36m200\u001b[0m\u001b[0;34m\u001b[0m\u001b[0;34m\u001b[0m\u001b[0m\n\u001b[1;32m      2\u001b[0m \u001b[0mN\u001b[0m \u001b[0;34m=\u001b[0m \u001b[0;36m50\u001b[0m\u001b[0;34m\u001b[0m\u001b[0;34m\u001b[0m\u001b[0m\n\u001b[0;32m----> 3\u001b[0;31m \u001b[0mF\u001b[0m \u001b[0;34m=\u001b[0m \u001b[0mvec\u001b[0m \u001b[0;34m=\u001b[0m \u001b[0msample_spherical\u001b[0m\u001b[0;34m(\u001b[0m\u001b[0mN\u001b[0m\u001b[0;34m,\u001b[0m \u001b[0md\u001b[0m\u001b[0;34m)\u001b[0m \u001b[0;31m# zipf distribution?\u001b[0m\u001b[0;34m\u001b[0m\u001b[0;34m\u001b[0m\u001b[0m\n\u001b[0m",
      "\u001b[0;31mNameError\u001b[0m: name 'sample_spherical' is not defined"
     ]
    }
   ],
   "source": [
    "\n",
    "d = 200\n",
    "N = 50\n",
    "F = vec = sample_spherical(N, d) # zipf distribution?"
   ]
  },
  {
   "cell_type": "code",
   "execution_count": 25,
   "metadata": {},
   "outputs": [
    {
     "name": "stdout",
     "output_type": "stream",
     "text": [
      "2.921717257230346\n",
      "2.921717257230346\n",
      "-0.14136601662516923\n",
      "-0.09526533132069444\n",
      "-0.20442350069867396\n",
      "-0.0638091359044524\n",
      "0.006884325977282897\n",
      "-0.05924963711932742\n",
      "-0.05797125920871801\n",
      "-0.10601404714966597\n",
      "0.005488417011272484\n",
      "0.06691301125386505\n",
      "-0.05645444278459542\n",
      "0.025314687536917062\n",
      "-0.15699038183974515\n",
      "-0.32426805152620497\n",
      "-0.02600723609316077\n",
      "-0.000820277833441988\n",
      "-0.03487410203529159\n",
      "-0.040000672123602\n"
     ]
    },
    {
     "data": {
      "image/png": "[encoded data removed]",
      "text/plain": [
       "<Figure size 432x288 with 1 Axes>"
      ]
     },
     "metadata": {
      "needs_background": "light"
     },
     "output_type": "display_data"
    }
   ],
   "source": [
    "\n",
    "x3 = np.array(range(1,1000))\n",
    "y3 = np.zeros(1000)\n",
    "k = 200\n",
    "nsamples = 1\n",
    "F = vec = sample_spherical(N, d) # zipf distribution?\n",
    "for n in range(1, 1000, 100):\n",
    "    #if n-1%100==0:\n",
    "    error_c = 0\n",
    "    for sample in range(nsamples):\n",
    "        rhats = sample_spherical(npoints=k+1, ndim=n)\n",
    "        other = np.random.randint(0, N)\n",
    "        fillers = [np.random.randint(0, N) if _==0 else other  for _ in range(k)] # type 1 error\n",
    "        T = sum([np.outer(F[:,fillers[i]], rhats[:,i]) for i in range(k)]) # may choose non-distinct vectors\n",
    "        print(T[0,0])\n",
    "        A_hat = F[:, fillers[0]]\n",
    "        \n",
    "        f_tilde = np.inner(T, rhats[:,0])\n",
    "        print(f_tilde[0])\n",
    "        closest = max(F.T, key=lambda f:np.inner(f_tilde, f))\n",
    "        if fillers[0]!=np.where(F.T==closest)[0][0]:\n",
    "            error_c += 1\n",
    "    y3[k-1] = error_c / nsamples\n",
    "\n",
    "\n",
    "plt.plot(x3,y3[:999])\n",
    "plt.title('Empirical Type 1 error as a function of n with k=200')\n",
    "plt.xlabel('Number of role vectors')\n",
    "plt.ylabel('Probability of Error')\n",
    "plt.show()"
   ]
  },
  {
   "cell_type": "code",
   "execution_count": 6,
   "metadata": {},
   "outputs": [
    {
     "data": {
      "image/png": "[encoded data removed]",
      "text/plain": [
       "<Figure size 432x288 with 1 Axes>"
      ]
     },
     "metadata": {
      "needs_background": "light"
     },
     "output_type": "display_data"
    }
   ],
   "source": [
    "type1_results = np.load('type1_results.npy')\n",
    "x1 = np.array(range(1,1000))\n",
    "plt.plot(x1,type1_results[:999])\n",
    "plt.title('Empirical Type 1 error as a function of k with n=500')\n",
    "plt.xlabel('Number of role vectors')\n",
    "plt.ylabel('Probability of Error')\n",
    "plt.show()"
   ]
  },
  {
   "cell_type": "markdown",
   "metadata": {},
   "source": [
    "## 4. Type 2 Error"
   ]
  },
  {
   "cell_type": "markdown",
   "metadata": {},
   "source": [
    "We might consider a less constrained case than Type 1 error, which we will call Type 2 error. Whereas in Type 1 error all roles besides the one being unbound are filled with the same filler, causing maximal instrusion into the unbound vector in that direction, in Type 2 error, we make no such assumptions about the other role-filler bindings, assuming that all are chosen at random. In this case, it is difficult to provide a theoretical estimate of error probability. Therefore, we apply the strategy from the preceeding experiment to obtain an empirical estimate."
   ]
  },
  {
   "cell_type": "code",
   "execution_count": 8,
   "metadata": {},
   "outputs": [
    {
     "ename": "NameError",
     "evalue": "name 'k' is not defined",
     "output_type": "error",
     "traceback": [
      "\u001b[0;31m---------------------------------------------------------------------------\u001b[0m",
      "\u001b[0;31mNameError\u001b[0m                                 Traceback (most recent call last)",
      "\u001b[0;32m<timed exec>\u001b[0m in \u001b[0;36m<module>\u001b[0;34m\u001b[0m\n",
      "\u001b[0;31mNameError\u001b[0m: name 'k' is not defined"
     ]
    }
   ],
   "source": [
    "%%time\n",
    "x1 = np.array(range(1,1000))\n",
    "y1 = np.zeros(999)\n",
    "n = 500\n",
    "nsamples = 2000\n",
    "nfillers=50\n",
    "fillerdim=k\n",
    "F = vec = sample_spherical(npoints=nfillers, ndim=fillerdim, nsamples=1) # zipf distribution?\n",
    "print(F[50][1])\n",
    "for k in range(100,1000,100):\n",
    "    error_c = 0\n",
    "    rhats = tosample_spherical(npoints=k+1, ndim=n, nsamples=nsamples)\n",
    "    fillers = torch.randint(0, N, (k, nsamples)) #type 2 error\n",
    "#     T = \n",
    "    T = sum([np.outer(F[:,fillers[i]], rhats[:,i]) for i in range(k)]) # may choose non-distinct vectors\n",
    "    A_hat = F[:, fillers[0]]\n",
    "\n",
    "    f_tilde = np.inner(T, rhats[:,0])\n",
    "    print(f_tilde[0])\n",
    "    closest = max(F.T, key=lambda f:np.inner(f_tilde, f))\n",
    "    if fillers[0]!=np.where(F.T==closest)[0][0]:\n",
    "        error_c += 1\n",
    "    y1[k-1] = error_c / 250\n",
    "\n",
    "\n",
    "plt.plot(x1,y1)\n",
    "plt.title('Empirical Type 2 error as a function of k with n=500')\n",
    "plt.xlabel('Number of role vectors')\n",
    "plt.ylabel('Probability of Error')\n",
    "plt.show()"
   ]
  },
  {
   "cell_type": "code",
   "execution_count": 69,
   "metadata": {},
   "outputs": [
    {
     "data": {
      "image/png": "[encoded data removed]",
      "text/plain": [
       "<Figure size 432x288 with 1 Axes>"
      ]
     },
     "metadata": {
      "needs_background": "light"
     },
     "output_type": "display_data"
    }
   ],
   "source": [
    "type2_results = np.load('type2_results.npy')\n",
    "x1 = np.array(range(1,1000))\n",
    "plt.plot(x1,type2_results)\n",
    "plt.title('Empirical Type 2 error as a function of role bindings with role dimension=500')\n",
    "plt.xlabel('Number of bindings')\n",
    "plt.ylabel('Probability of Error')\n",
    "plt.show()"
   ]
  },
  {
   "cell_type": "markdown",
   "metadata": {},
   "source": [
    "## 5. Error in the real world.\n",
    "\n",
    "While these theoretical scenarios are useful to think about, they don't exactly match the real-world problems encountered when using TPRs. In the real world, fillers for roles should not be thought of as being drawn in a uniform distribution, but some fillers may be much more common than others. For instance, in a natural language context where our fillers are words, we might expect them to be drawn from a Zipf distribution. Further, conditioning on a single TPR, we might expect additional correlation between the fillers in the same TPR, due to, for example, syntactic and semantic constraints. Finally, we might also consider that the vector representations of co-occuring fillers might be expected to have a greater similarity than filler vectors chosen totally at random, and the filler space might be extremely dense. In this section, we explore these problems in the context of positional sentence TPRs with word2vec embeddings as fillers, using the reuters corpus as the source for sentences to be embedded and GoogleNews vectors as the embedding vectors."
   ]
  },
  {
   "cell_type": "code",
   "execution_count": 3,
   "metadata": {},
   "outputs": [
    {
     "name": "stderr",
     "output_type": "stream",
     "text": [
      "[nltk_data] Downloading package reuters to /Users/coleman/nltk_data...\n",
      "[nltk_data]   Package reuters is already up-to-date!\n",
      "[nltk_data] Downloading package punkt to /Users/coleman/nltk_data...\n",
      "[nltk_data]   Unzipping tokenizers/punkt.zip.\n"
     ]
    },
    {
     "data": {
      "text/plain": [
       "True"
      ]
     },
     "execution_count": 3,
     "metadata": {},
     "output_type": "execute_result"
    }
   ],
   "source": [
    "import nltk\n",
    "nltk.download('reuters')\n",
    "nltk.download('punkt')"
   ]
  },
  {
   "cell_type": "markdown",
   "metadata": {},
   "source": [
    "### 5.1 Preprocessing"
   ]
  },
  {
   "cell_type": "code",
   "execution_count": 17,
   "metadata": {},
   "outputs": [],
   "source": [
    "from nltk.corpus import reuters\n",
    "from gensim.models import KeyedVectors\n",
    "sents = list(reuters.sents())\n",
    "sents.sort(key=len)"
   ]
  },
  {
   "cell_type": "code",
   "execution_count": 16,
   "metadata": {},
   "outputs": [
    {
     "name": "stdout",
     "output_type": "stream",
     "text": [
      "[]\n"
     ]
    }
   ],
   "source": [
    "print(sents)"
   ]
  },
  {
   "cell_type": "code",
   "execution_count": 18,
   "metadata": {},
   "outputs": [],
   "source": [
    "bound = 0\n",
    "while len(sents[bound+1]) <=50:\n",
    "    bound += 1\n",
    "    \n",
    "# bound = next(i for i in range(len(sents)) if len(sents[i])<=50) # take only sentences of length 50 or less"
   ]
  },
  {
   "cell_type": "code",
   "execution_count": 19,
   "metadata": {},
   "outputs": [
    {
     "name": "stdout",
     "output_type": "stream",
     "text": [
      "49442 sentences.\n"
     ]
    }
   ],
   "source": [
    "# constrain upper length of sentences to have a fixed role set.\n",
    "sents = sents[:bound] # the sentences of length 50 or less\n",
    "print('%d sentences.' % (len(sents)))"
   ]
  },
  {
   "cell_type": "code",
   "execution_count": 6,
   "metadata": {},
   "outputs": [],
   "source": [
    "wordvecs = KeyedVectors.load_word2vec_format('./model/GoogleNews-vectors-negative300.bin', binary=True) "
   ]
  },
  {
   "cell_type": "code",
   "execution_count": 30,
   "metadata": {},
   "outputs": [
    {
     "name": "stdout",
     "output_type": "stream",
     "text": [
      "49433 sentences.\n"
     ]
    }
   ],
   "source": [
    "# remove OOV words and sentences of length 0.\n",
    "len0sents = []\n",
    "for sent in sents:\n",
    "    toremove = []\n",
    "    for word in sent:\n",
    "        try:\n",
    "            wordvecs[word]\n",
    "        except KeyError:\n",
    "            toremove.append(word)\n",
    "    for word in toremove:\n",
    "        sent.remove(word)\n",
    "    if len(sent) == 0:\n",
    "        len0sents.append(sent)\n",
    "\n",
    "for sent in len0sents:\n",
    "    sents.remove(sent)\n",
    "    \n",
    "print('%d sentences.' % (len(sents)))"
   ]
  },
  {
   "cell_type": "code",
   "execution_count": 184,
   "metadata": {},
   "outputs": [
    {
     "name": "stdout",
     "output_type": "stream",
     "text": [
      "[1, 0, 0, 1, 1, 1, 1, 2, 6, 3, 1, 3, 4, 5, 3, 3, 3, 5, 5, 6, 1, 3, 6, 3, 3, 4, 4, 7, 2, 0, 2, 3, 2, 0, 0, 1, 2, 1, 0, 1, 0, 0, 0, 0, 0, 0, 0, 0, 0]\n"
     ]
    }
   ],
   "source": [
    "# not enough! gotta run faster\n",
    "num_sents_per_len = [sum(1 if len(sent)==i else 0 for sent in sents[::500]) for i in range(1,50)]\n",
    "print(num_sents_per_len)"
   ]
  },
  {
   "cell_type": "markdown",
   "metadata": {},
   "source": [
    "### 5.2 Statistical properties of Google News vectors"
   ]
  },
  {
   "cell_type": "code",
   "execution_count": 32,
   "metadata": {},
   "outputs": [
    {
     "data": {
      "text/plain": [
       "0.6487857584178377"
      ]
     },
     "execution_count": 32,
     "metadata": {},
     "output_type": "execute_result"
    }
   ],
   "source": [
    "# Average dot product between word2vec reps of words of the last sentence in the corpus\n",
    "sum([sum([np.inner(wordvecs[w1],wordvecs[w2]) for w1 in sents[-1]])/len(sents[-1]) for w2 in sents[-1]])/len(sents[-1])"
   ]
  },
  {
   "cell_type": "code",
   "execution_count": 33,
   "metadata": {},
   "outputs": [
    {
     "data": {
      "text/plain": [
       "4.037166"
      ]
     },
     "execution_count": 33,
     "metadata": {},
     "output_type": "execute_result"
    }
   ],
   "source": [
    "# Notice they're not normalized:\n",
    "np.inner(wordvecs[sents[0][0]],wordvecs[sents[0][0]])"
   ]
  },
  {
   "cell_type": "code",
   "execution_count": 145,
   "metadata": {},
   "outputs": [
    {
     "name": "stdout",
     "output_type": "stream",
     "text": [
      "0.028437374385665806\n"
     ]
    }
   ],
   "source": [
    "# random 300 dimensional unit vectors\n",
    "avg = 0\n",
    "for sample in range(100):\n",
    "    \n",
    "    rhats = sample_spherical(npoints=len(sents[-1]), ndim=300)\n",
    "    avg += sum([sum([np.inner(rhati,rhatj) for rhati in rhats])/len(sents[-1]) for rhatj in rhats])/len(sents[-1])\n",
    "avg = avg / 100\n",
    "print(avg)"
   ]
  },
  {
   "cell_type": "code",
   "execution_count": 146,
   "metadata": {},
   "outputs": [
    {
     "data": {
      "text/plain": [
       "23.012637710747804"
      ]
     },
     "execution_count": 146,
     "metadata": {},
     "output_type": "execute_result"
    }
   ],
   "source": [
    "sum([sum([np.inner(wordvecs[w1],wordvecs[w2]) for w1 in sents[-1]])/len(sents[-1]) for w2 in sents[-1]])/len(sents[-1]) / avg"
   ]
  },
  {
   "cell_type": "code",
   "execution_count": 134,
   "metadata": {},
   "outputs": [
    {
     "data": {
      "text/plain": [
       "0.4411893014964604"
      ]
     },
     "execution_count": 134,
     "metadata": {},
     "output_type": "execute_result"
    }
   ],
   "source": [
    "# Is this a general property of word2vec, or the words being from the same sentence?\n",
    "sum([sum([np.inner(wordvecs[w1],wordvecs[w2]) for w1 in sents[-1]])/len(sents[-1]) for w2 in sents[-5]])/len(sents[-5])"
   ]
  },
  {
   "cell_type": "code",
   "execution_count": 137,
   "metadata": {},
   "outputs": [
    {
     "name": "stdout",
     "output_type": "stream",
     "text": [
      "The cython extension is already loaded. To reload it, use:\n",
      "  %reload_ext cython\n"
     ]
    }
   ],
   "source": [
    "%load_ext cython"
   ]
  },
  {
   "cell_type": "code",
   "execution_count": 164,
   "metadata": {},
   "outputs": [
    {
     "name": "stdout",
     "output_type": "stream",
     "text": [
      "['REUTER']\n",
      "['Terms', 'were', 'not', 'disclosed']\n",
      "['Western', 'diplomatic', 'sources', 'were', 'more', 'blunt']\n",
      "['Funds', 'averaged', '6', 'pct', 'yesterday']\n",
      "['It', 'would', 'depend', 'on', 'what', 'price', 'they', 'offered']\n",
      "['Shultz', 'is', 'set', 'arrive', 'in', 'Moscow', 'April']\n",
      "['Gabelli', 'is', 'an', 'investment', 'firm', 'headquartered', 'in', 'New', 'York', 'City']\n",
      "['Leader', 'said', 'the', 'stock', 'is', 'convertible', 'into', 'common']\n",
      "['The', 'capital', 'increase', 'will', 'boost', 'our', 'operations', 'she', 'said']\n",
      "['Victor', 'was', 'stock', 'association', 'with', 'mln', 'dlrs', 'in', 'assets']\n",
      "['MURPHY', 'OIL', 'SAID', 'IT', 'PROPOSING', 'TO', 'ACQUIRE', 'REMAINING', 'PCT', 'OF', 'CANADIAN', 'SUBSIDIARY']\n",
      "['BORG', 'WARNER', 'TO', 'SELL', 'INDUSTRIAL', 'PRODUCTS', 'BUSINESS', 'FOR', 'ABOUT', 'MLN']\n",
      "['First', 'quarter', 'exports', 'rose', 'pct', '9', '4', 'billion', 'dlrs']\n",
      "['The', 'fall', 'compares', 'with', 'decline', '0', '2', 'pct', 'in', 'December']\n",
      "['The', 'MITI', 'official', 'said', 'MITI', 'undertakes', 'such', 'surveys', 'when', 'exchange', 'rates', 'fluctuate', 'widely']\n",
      "['Six', 'are', 'load', 'tonnes', 'wheat', 'for', 'the', 'Soviet', 'Union']\n",
      "['EXPORTERS', 'REPORT', 'TONNES', 'CORN', 'SOLD', 'TO', 'THE', 'USSR', 'FOR']\n",
      "['CANADA', 'MLN', 'DLR', 'T', 'BILL', 'ISSUE', 'YIELD', 'AVERAGE', '8', 'PCT', 'OFFICIAL']\n",
      "['It', 's', 'backward', 'movement', 'goes', 'against', 'the', 'government', 's']\n",
      "['Regulators', 'also', 'have', 'criticized', 'the', 'industry', 'citing', 'quality', 'problems', 'needless', 'overprescription', 'pacemakers']\n",
      "['FED', 'SAYS', 'IT', 'BUYS', 'MLN', 'OF', 'BILLS', 'FOR', 'CUSTOMER', 'MAY', 'THROUGH', 'SEPT', 'MATURITY']\n",
      "['Worthy', 'but', 'boring', 'would', 'probably', 'sum', 'it', 'up', 'Peter', 'Fellner', 'U', 'K']\n",
      "['Stearns', 'based', 'in', 'Crowley', 'Texas', 'makes', 'airport', 'baggage', 'conveyor', 'equipment', 'passenger', 'loading', 'bridges']\n",
      "['It', 'said', 'corn', 'producers', 'will', 'receive', 'about', 'mln', 'dlrs', 'sorghum', 'producers', 'about', 'mln', 'dlrs']\n",
      "['PRI', 'said', 'all', 'Shell', 'brand', 'products', 'sold', 'under', 'this', 'agreement', 'will', 'be', 'manufactured', 'Shell', 'specifications']\n",
      "['Liberal', 'Democrats', 'said', 'lack', 'any', 'restrictions', 'in', 'the', 'bill', 'implied', 'consent', 'Reagan', 's', 'policies']\n",
      "['Some', 'bankers', 'expect', 'the', 'deregulation', 'rates', 'result', 'in', 'pct', 'drop', 'in', 'profits', 'this', 'year']\n",
      "['No', 'replanting', 'has', 'been', 'successful', 'said', 'Almy', 'from', 'the', 'Indonesian', 'Network', 'for', 'Forest', 'Conservation']\n",
      "['The', 'restructuring', 'was', 'announced', 'in', 'December', 'after', 'Carter', 'Hawley', 'rejected', 'buy', 'out', 'offer', 'by', 'Retail', 'Partners']\n",
      "['The', 'Hughes', 'board', 'last', 'week', 'indicated', 'that', 'it', 'might', 'cancel', 'the', 'merger', 'because', 'the', 'Department', 'Justice', 'requirement']\n",
      "['HUDSON', 'S', 'BAY', 'CO', 'HAD', 'OF', '4', 'MLN', 'MAINLY', 'ON', 'STAKE', 'IN', 'DOME', 'PETROLEUM']\n",
      "['The', 'company', 'said', 'the', 'two', 'units', 'combined', 'are', 'expected', 'have', 'net', 'revenues', 'about', 'mln', 'dlrs', 'in']\n",
      "['Under', '0', 'farmer', 'can', 'forego', 'planting', 'crop', 'but', 'still', 'collect', 'pct', 'deficiency', 'payments']\n",
      "['He', 'said', 'the', 'EC', 's', 'executive', 'commission', 'had', 'accepted', 'the', 'government', 's', 'view', 'that', 'EPAC', 'should', 'be', 'eligible']\n",
      "['The', 'EC', 'in', 'ruled', 'all', 'EC', 'oilseed', 'imports', 'duty', 'free', 'in', 'an', 'effort', 'fill', 'its', 'oilseed', 'needs']\n",
      "['I', 'think', 'he', 's', 'going', 'be', 'the', 'next', 'Frank', 'Lorenzo', 'Wall', 'Street', 'said', 'one', 'market', 'source']\n",
      "['The', 'offer', 'is', 'not', 'conditioned', 'on', 'receipt', 'any', 'minimum', 'number', 'shares', 'but', 'is', 'conditioned', 'on', 'the', 'arrangement', 'financing']\n",
      "['All', 'that', 'some', 'countries', 'would', 'like', 'have', 'would', 'be', 'wheat', 'agreement', 'where', 'we', 'would', 'stop', 'export', 'subsidies', 'on', 'wheat']\n",
      "['They', 'named', 'Kuwait', 'the', 'United', 'Arab', 'Emirates', 'along', 'with', 'the', 'much', 'smaller', 'producer', 'Ecuador', 'among', 'those', 'producing', 'above', 'quota']\n",
      "['It', 'said', 'the', 'restructuring', 'as', 'partnership', 'has', 'substantially', 'increased', 'the', 'cash', 'available', 'for', 'distribution', 'unitholders', 'as', 'it', 'had', 'predicted']\n",
      "['API', 'SAYS', 'STOCKS', 'UP', '2', 'MLN', 'BBLS', 'GASOLINE', 'OFF', '2', 'MLN', 'CRUDE', 'OFF', '1', 'MLN']\n",
      "['Awards', 'are', 'determined', 'by', 'whichever', 'the', 'two', 'methods', 'is', 'most', 'cost', 'advantageous', 'based', 'on', 'the', 'cost', 'money', 'at', 'that', 'time']\n",
      "['Some', 'the', 'disputes', 'dating', 'back', 'about', 'years', 'were', 'brought', 'by', 'groups', 'that', 'alleged', 'improper', 'foreign', 'payments', 'political', 'contributions']\n",
      "['The', 'preferred', 'share', 'has', 'par', 'value', 'dlrs', 'is', 'retractable', 'at', 'the', 'holder', 's', 'option', 'on', 'May', '1']\n",
      "['Consolidated', 'owns', 'mining', 'concessions', 'in', 'three', 'regions', 'eastern', 'northern', 'Brazil', 'Santo', 'Antonio', 'the', 'company', 'said']\n",
      "['Last', 'week', 'also', 'saw', 'widespread', 'protests', 'by', 'hundreds', 'thousands', 'farmers', 'over', 'what', 'they', 'see', 'as', 'unfairly', 'high', 'interest', 'rates', 'charged', 'by', 'banks']\n",
      "['But', 'he', 'said', 'the', 'question', 'was', 'still', 'being', 'considered', 'by', 'Trade', 'Minister', 'Rachmat', 'Saleh', 'no', 'decision', 'on', 'when', 'go', 'ahead', 'had', 'been', 'made']\n",
      "['The', 'minister', 'also', 'state', 'subsidies', 'which', 'he', 'said', 'mainly', 'large', 'companies', 'created', 'tax', 'burden', 'for', 'smaller', 'medium', 'sized', 'firms']\n",
      "['And', 'the', 'Australian', 'Reserve', 'Bank', 'using', 'the', 'Fed', 'as', 'agent', 'sold', 'Australian', 'dollars', 'in', 'the', 'U', 'S', 'yesterday', 'dealers', 'said']\n",
      "['They', 'agreed', 'however', 'that', 'further', 'actions', 'will', 'be', 'essential', 'resist', 'rising', 'protectionist', 'pressures', 'sustain', 'global', 'economic', 'expansion', 'reduce', 'trade', 'imbalances']\n",
      "['The', 'delegate', 'said', 'unless', 'major', 'producers', 'like', 'Brazil', 'showed', 'readiness', 'negotiate', 'new', 'quota', 'shares', 'prospects', 'for', 'quota', 'accord', 'in', 'October', 'also', 'looked', 'bleak']\n",
      "['In', 'addition', 'Attilio', 'Petrocelli', 'president', 'Metropolitan', 'was', 'named', 'fill', 'vacancy', 'on', 'the', 'Metex', 'board', 'directors', 'the', 'company', 'said']\n",
      "['Bentsen', 'said', 'coordinated', 'rate', 'cuts', 'could', 'take', 'billions', 'off', 'the', 'debt', 'service', 'the', 'Latin', 'countries', 'help', 'ease', 'protectionist', 'pressures', 'in', 'the', 'industrial', 'countries']\n",
      "['Next', 'week', 'Mississippi', 'Alton', 'Granite', 'City', 'MLA', 'if', 'P', 'O', 'bid', 'five', 'points', 'higher', 'at', 'pct', 'offered', 'at']\n",
      "['Partly', 'offsetting', 'these', 'outflows', 'exchequer', 'transactions', 'fall', 'in', 'note', 'circulation', 'will', 'add', 'some', 'mln', 'stg', 'mln', 'stg', 'the', 'system', 'respectively']\n",
      "['However', 'in', 'general', 'plant', 'development', 'was', 'at', 'least', 'three', 'weeks', 'or', 'more', 'behind', 'normal', 'this', 'spring', 'conditions', 'varied', 'greatly', 'by', 'regions', 'the', 'report', 'said']\n",
      "['WHITE', 'HOUSE', 'SAYS', 'INTEREST', 'RATES', 'REFLECT', 'MARKET', 'The', 'White', 'House', 'said', 'the', 'rise', 'in', 'interest', 'rates', 'was', 'unfortunate', 'in', 'general', 'sense', 'but', 'reflected', 'market', 'forces']\n",
      "['Last', 'October', 'Schlumberger', 'announced', 'the', 'sale', 'the', 'Fairchild', 'stake', 'said', 'it', 'would', 'take', 'mln', 'dlrs', 'charge', 'in', 'the', 'fourth', 'quarter', 'from', 'the', 'sale']\n",
      "['Lichtblau', 'said', 'the', 'U', 'S', 'depended', 'on', 'foreign', 'suppliers', 'for', 'pct', 'its', 'oil', 'in', 'predicted', 'that', 'would', 'increase', 'pct', 'by']\n",
      "['The', 'market', 'feels', 'it', 'can', 'take', 'on', 'the', 'central', 'banks', 'win', 'said', 'Michael', 'Snow', 'head', 'treasury', 'operations', 'at', 'Union', 'Bank', 'Switzerland', 'in', 'New', 'York']\n",
      "['There', 'is', 'no', 'official', 'confirmation', 'that', 'specific', 'bands', 'were', 'set', 'although', 'the', 'agreement', 'used', 'the', 'term', 'ranges', 'for', 'the', 'first', 'time', 'in', 'an', 'international', 'economic', 'agreement']\n"
     ]
    },
    {
     "name": "stdout",
     "output_type": "stream",
     "text": [
      "['World', 'cereal', 'stocks', 'at', 'the', 'end', 'were', 'forecast', 'rise', 'mln', 'tonnes', 'record', 'mln', 'tonnes', 'softening', 'the', 'impact', 'reduced', 'production']\n",
      "['This', 'development', 'was', 'aided', 'by', 'cooperation', 'between', 'the', 'bank', 'the', 'savings', 'banks', 'in', 'the', 'West', 'German', 'state', 'North', 'Rhine', 'Westphalia', 'where', 'parent', 'bank', 'WestLB', 'is', 'based']\n",
      "['These', 'certificates', 'will', 'provide', 'ample', 'free', 'supplies', 'corn', 'wheat', 'for', 'the', 'remainder', 'the', 'crop', 'year', 'the', 'department', 'said', 'in', 'summary', 'its', 'Agricultural', 'Outlook', 'report']\n",
      "['Paul', 'Cain', 'vice', 'president', 'at', 'Shearson', 'Lehman', 'Brothers', 'said', 'the', 'elimination', 'price', 'limits', 'will', 'cut', 'back', 'on', 'panic', 'buying', 'or', 'selling', 'contribute', 'more', 'orderly', 'markets']\n",
      "['Beall', 'said', 'the', 'recent', 'trend', 'toward', 'cost', 'sharing', 'in', 'the', 'research', 'development', 'phase', 'government', 'contracts', 'should', 'not', 'have', 'major', 'impact', 'on', 'Rockwell', 's', 'near', 'term', 'performance']\n",
      "['In', 'line', 'with', 'its', 'planned', 'Global', 'expansion', 'efforts', 'Benetton', 'is', 'also', 'holding', 'talks', 'with', 'the', 'Soviet', 'Union', 'explore', 'the', 'possibility', 'opening', 'up', 'stores', 'in', 'the', 'country']\n",
      "['ROCHESTER', '&', 'lt', 'RTC', '>', 'ACQUIRES', '&', 'lt', 'CANTON', 'TELEPHONE', 'CO', '>', 'Rochester', 'Telephone', 'Corp', 'said', 'it', 'completed', 'the', 'acquisition', 'Canton', 'Telephone', 'Co', 'is', 'now', 'operating', 'the', 'company']\n",
      "['IRAQ', 'TURKEY', 'OIL', 'PIPELINE', 'CUT', 'BY', 'LANDSLIDE', 'Turkey', 'oil', 'pipeline', 'near', 'the', 'southern', 'town', 'Adana', 'after', 'it', 'was', 'cut', 'by', 'landslide', 'the', 'Hurriyet', 'Anatolian', 'news', 'agencies', 'said']\n",
      "['The', 'company', 'drilled', 'wells', 'offshore', 'with', 'leading', 'the', 'discovery', 'hydrocarbons', 'although', 'it', 'is', 'too', 'early', 'gauge', 'the', 'commercial', 'viability', 'these', 'discoveries', 'Reid', 'said']\n",
      "['MORE', 'GOLD', 'DETECTED', 'AT', 'MINE', 'Lac', 'Minerals', 'Ltd', 'Cambior', 'Inc', 'said', 'they', 'completed', 'second', 'hole', 'at', 'their', 'jointly', 'owned', 'Doyon', 'mine', 'in', 'Quebec', 'which', 'showed', 'two', 'significant', 'gold', 'intersections']\n",
      "['The', 'company', 'said', 'detailed', 'disclosure', 'an', 'acquisition', 'offer', 'must', 'be', 'made', 'the', 'Panamanian', 'National', 'Securities', 'Commission', 'or', 'the', 'target', 's', 'board', 'before', 'acquiring', 'more', 'than', 'five', 'pct', 'stake']\n",
      "['BALL', 'CORP', '&', 'lt', 'BLL', '>', 'COMPLETES', 'ACQUISITION', 'Ball', 'Corp', 'said', 'it', 'completed', 'the', 'purchase', 'privately', 'held', '&', 'lt', 'Inc', 'San', 'Diego', 'defense', 'systems', 'software', 'development', 'company']\n",
      "['We', 'expect', 'file', 'papers', 'late', 'tonight', 'asking', 'the', 'ICC', 'reopen', 'the', 'rail', 'merger', 'case', 'spokesman', 'Rich', 'Hall', 'said', 'in', 'telephone', 'interview', 'from', 'the', 'company', 's', 'Chicago', 'headquarters']\n",
      "['Imperial', 'Oil', 'said', 'it', 'expects', 'spend', 'about', 'mln', 'dlrs', 'on', 'capital', 'exploration', 'expenditures', 'in', 'compared', 'mln', 'dlrs', 'in', '1', 'billion', 'dlrs', 'in']\n",
      "['SEDGWICK', 'BUYS', 'BSI', 'Sedgwick', 'Group', 'Plc', '&', 'lt', 'L', '>', 'said', 'its', 'wholly', 'owned', 'Canadian', 'subsidiary', 'Sedgwick', 'Inc', 'had', 'acquired', 'BSi', 'Incorp', 'for', 'maximum', 'eight', 'mln', 'Canadian', 'dlrs']\n",
      "['Earlier', 'today', 'London', 'traders', 'had', 'expected', 'the', 'subsidy', 'for', 'the', 'current', 'season', 'whites', 'campaign', 'for', 'end', 'Aug', 'be', 'between', 'per', 'kilos']\n",
      "['Net', 'includes', 'loan', 'loss', 'provisions', '5', 'dlrs', 'vs', '4', 'dlrs', 'in', 'quarter', '3', 'mln', 'dlrs', 'vs', '4', 'mln', 'dlrs', 'in', 'nin', 'mths']\n",
      "['The', 'talks', 'now', 'in', 'their', 'second', 'week', 'are', 'aimed', 'at', 'stretching', 'out', 'repayments', '3', '6', 'billion', 'dlrs', 'debt', 'granting', 'easier', 'terms', 'on', '5', '8', 'billion', 'already', 'rescheduled', 'debt']\n",
      "['A', 'consortium', 'pct', 'owned', 'by', 'Teck', 'pct', 'each', 'by', 'MIM', 'Canada', 'Inc', 'Metallgesellschaft', 'Canada', 'Ltd', 'acquired', 'its', 'Cominco', 'stake', 'last', 'year', 'from', 'Canadian', 'Pacific', 'Ltd', '&', 'lt', 'CP']\n",
      "['Douglas', 'said', 'it', 'was', 'too', 'early', 'project', 'whether', 'the', 'anticipated', 'fourth', 'quarter', 'performance', 'would', 'be', 'enough', 'for', 'us', 'exceed', 'the', 'prior', 'year', 's', 'overall', 'earnings', '1', 'dlrs', 'share']\n",
      "['Net', 'includes', 'gains', 'on', 'sale', 'securities', 'pretax', '1', 'dlrs', 'vs', 'dlrs', 'in', 'quarter', '5', 'dlrs', 'vs', '3', 'dlrs', 'in', 'year']\n",
      "['He', 'said', 'studies', 'by', 'international', 'had', 'made', 'it', 'clear', 'that', 'especially', 'in', 'the', 'U', 'S', 'And', 'in', 'Japan', 'major', 'efforts', 'remained', 'necessary', 'support', 'adjustments', 'in', 'foreign', 'trade', 'balances', 'via', 'necessary', 'corrections', 'economic', 'policy']\n",
      "['Following', 'its', 'fall', 'today', 'record', 'yen', 'dealers', 'said', 'they', 'expect', 'the', 'dollar', 'establish', 'new', 'trading', 'range', 'yen', 'before', 'the', 'market', 'again', 'tries', 'push', 'it', 'down']\n",
      "['JACOBS', 'TAKES', 'MAJORITY', 'STAKE', 'IN', 'COTE', 'D', 'OR', 'Jacobs', 'Suchard', 'AG', 'said', 'it', 'acquired', 'comfortable', 'majority', 'interest', 'in', 'its', 'takeover', 'bid', 'for', 'Cote', 'd', 'Or', 'SA', 'Belgium', 's', 'leading', 'producer', 'chocolate']\n",
      "['Jaap', 'managing', 'director', 'downstream', 'unit', '&', 'lt', 'Shell', 'U', 'K', 'Oil', 'said', 'refining', 'margins', 'in', 'the', 'first', 'quarter', 'were', 'bit', 'better', 'than', 'the', 'very', 'bad', 'fourth', 'quarter']\n",
      "['Wellemeyer', 'speaking', 'reporters', 'at', 'an', 'offshore', 'oil', 'engineering', 'conference', 'also', 'said', 'he', 'expected', 'OPEC', 'nations', 'attempt', 'hold', 'prices', 'under', 'dlrs', 'barrel', 'for', 'several', 'years', 'keep', 'industrial', 'demand', 'for', 'residual', 'fuel', 'oil', 'strong']\n",
      "['U', 'S', 'Agriculture', 'Secretary', 'Richard', 'Lyng', 'who', 'is', 'due', 'visit', 'Japan', 'for', 'talks', 'between', 'April', 'has', 'said', 'he', 'will', 'ask', 'Japan', 'offer', 'share', 'its', 'rice', 'market', 'U', 'S']\n",
      "['Latest', 'data', 'for', 'central', 'bank', 'money', 'stock', 'the', 'Bundesbank', 's', 'main', 'measure', 'money', 'supply', 'showed', 'the', 'measure', 'was', 'growing', 'at', '7', '1', '2', 'pct', 'in', 'January', 'outside', 'its', 'three', 'six', 'pct', 'target']\n",
      "['IFR', 'SYSTEMS', 'INC', '&', 'lt', 'IFRS', 'O', '>', '1ST', 'QTR', 'SEPT', 'NET', 'Shr', 'cts', 'vs', 'cts', 'Net', '1', 'vs', 'Sales', '9', 'vs', '7']\n",
      "['I', 'am', 'sure', 'that', 'if', 'such', 'management', 'buyout', 'is', 'occur', 'I', 'am', 'hopeful', 'that', 'it', 'does', 'the', 'public', 'market', 'is', 'one', 'the', 'avenues', 'we', 'will', 'ultimately', 'have', 'use', 'raise', 'capital', 'Brooks', 'said']\n",
      "['STANDARD', 'OIL', '&', 'lt', 'SRD', '>', 'COMMITTEE', 'TRIED', 'TO', 'DELAY', 'BID', 'A', 'committee', 'independent', 'directors', 'the', 'Standard', 'Oil', 'Co', 'unsuccessfully', 'sought', 'delay', 'in', 'tender', 'offer', 'for', 'Standard', 'shares', 'by', 'British', 'Petroleum', 'Co', 'plc', 'according', 'offering', 'documents']\n",
      "['GERMAN', 'MONEY', 'MARKET', 'SPLIT', 'ON', 'LOWER', 'RATE', 'PROSPECTS', 'Remarks', 'by', 'central', 'bankers', 'raised', 'some', 'hopes', 'the', 'Bundesbank', 'will', 'cut', 'rates', 'on', 'securities', 'repurchase', 'pacts', 'but', 'operators', 'remained', 'divided', 'on', 'the', 'likelihood', 'move', 'in', 'the', 'near', 'term', 'money', 'market', 'dealers', 'said']\n",
      "['Last', 'year', 'Irish', 'yields', 'were', 'the', 'lowest', 'for', 'years', 'due', 'late', 'sowings', 'the', 'state', 'run', 'Irish', 'Sugar', 'Plc', 'said', 'the', 'plantings', 'target', 'is', 'the', 'equivalent', 'hectares', 'down', 'from', 'in']\n",
      "['PCGG', 'sources', 'said', 'SMC', 'the', 'Philippines', 'largest', 'food', 'beverage', 'manufacturer', 'has', 'agreed', 'sell', 'mln', 'B', 'class', 'shares', 'from', 'the', '1', 'mln', 'shares', 'Australian', 'brewer', 'Alan', 'Bond', 'at', 'price', 'pesos', 'per', 'share']\n"
     ]
    },
    {
     "name": "stdout",
     "output_type": "stream",
     "text": [
      "['EC', 'U', 'S', 'PLAN', 'HIGH', 'LEVEL', 'TRADE', 'TALKS', 'The', 'European', 'Community', 'is', 'willing', 'offer', 'limited', 'concessions', 'the', 'United', 'States', 'on', 'one', 'two', 'major', 'issues', 'which', 'threaten', 'poison', 'their', 'trade', 'relations', 'next', 'year', 'an', 'EC', 'commission', 'spokesman', 'said']\n",
      "['Sosnoff', 'said', 'in', 'the', 'newspaper', 'advertisement', 'that', 'the', 'amended', 'offer', 'is', 'conditioned', 'on', 'receipt', 'enough', 'shares', 'give', 'him', 'majority', 'interest', 'on', 'fully', 'diluted', 'basis', 'on', 'the', 'arrangement', 'financing', 'as', 'well', 'as', 'approvals', 'by', 'New', 'Jersey', 'Nevada', 'gaming', 'authorities']\n",
      "['Siew', 'said', 'the', 'talks', 'starting', 'on', 'April', 'would', 'cover', 'U', 'S', 'Calls', 'for', 'Taiwan', 'open', 'its', 'market', 'American', 'products', 'purchases', 'major', 'U', 'S', 'Machinery', 'power', 'plant', 'equipment', 'import', 'tariff', 'cuts', 'protection', 'intellectual', 'property']\n",
      "['Treasury', 'Secretary', 'James', 'Baker', 'went', 'out', 'his', 'way', 'reassure', 'markets', 'his', 'commitment', 'stable', 'dollar', 'with', 'statement', 'French', 'Finance', 'Minister', 'Edouard', 'Balladur', 'underscored', 'that', 'by', 'saying', 'I', 'don', 't', 'believe', 'at', 'all', 'that', 'the', 'Americans', 'want', 'weaker', 'dollar']\n",
      "CPU times: user 1h 6min 31s, sys: 5min 9s, total: 1h 11min 41s\n",
      "Wall time: 52min 47s\n"
     ]
    }
   ],
   "source": [
    "%%time\n",
    "nfilledroles = np.array(range(1,50))\n",
    "errors = np.zeros(49)\n",
    "nsamples = 1\n",
    "ndim=50\n",
    "bests = []\n",
    "trues = []\n",
    "for sample in range(nsamples):\n",
    "    rhats = sample_spherical(npoints=50, ndim=ndim)\n",
    "    processed_sents = 0\n",
    "    for sent in sents[::500]:\n",
    "        print(sent)\n",
    "        kp1 = len(sent) # k+1: the number of filled role vectors\n",
    "        error_c = 0\n",
    "        fillers = [wordvecs[sent[i]] for i in range(kp1)]\n",
    "        roles = [rhats[:, i] for i in range(kp1)]\n",
    "        T = sum([np.outer(wordvecs[sent[i]], rhats[:,i]) for i in range(kp1)]) # take TPR\n",
    "        sbests = []\n",
    "        strues = []\n",
    "        for i in range(kp1):\n",
    "            A_hat = fillers[i] # correct filler\n",
    "            f_tilde = np.inner(T, roles[i])\n",
    "            topi.append([])\n",
    "            strues.append(A_hat)\n",
    "            # solution is the vector with largest dot product with f_tilde\n",
    "            closeness = np.einsum('ij, j->i', wordvecs.vectors, f_tilde)\n",
    "            for i in range(25): # num topi\n",
    "                topi.append(wordvecs.vectors[np.argpartition(closeness, kth=i)[i]])\n",
    "            closest = topi[0]\n",
    "            # print(np.where(fillers==closest)[0][0]) # am I sure about this np.where?\n",
    "            if not np.array_equal(A_hat, closest):\n",
    "                error_c += 1\n",
    "            sbests.append(topi)\n",
    "        trues.append(strues)\n",
    "        errors[kp1-1] += error_c / kp1\n",
    "        processed_sents += 1\n",
    "        bests.append(sbests)\n",
    "#         if processed_sents%10000 == 0:\n",
    "#             print(processed_sents)\n"
   ]
  },
  {
   "cell_type": "code",
   "execution_count": 165,
   "metadata": {},
   "outputs": [
    {
     "name": "stdout",
     "output_type": "stream",
     "text": [
      "['REUTER']\n",
      "['Terms', 'were', 'not', 'disclosed']\n",
      "['Western', 'diplomatic', 'sources', 'were', 'more', 'blunt']\n",
      "['Funds', 'averaged', '6', 'pct', 'yesterday']\n",
      "['It', 'would', 'depend', 'on', 'what', 'price', 'they', 'offered']\n",
      "['Shultz', 'is', 'set', 'arrive', 'in', 'Moscow', 'April']\n",
      "['Gabelli', 'is', 'an', 'investment', 'firm', 'headquartered', 'in', 'New', 'York', 'City']\n",
      "['Leader', 'said', 'the', 'stock', 'is', 'convertible', 'into', 'common']\n",
      "['The', 'capital', 'increase', 'will', 'boost', 'our', 'operations', 'she', 'said']\n",
      "['Victor', 'was', 'stock', 'association', 'with', 'mln', 'dlrs', 'in', 'assets']\n",
      "['MURPHY', 'OIL', 'SAID', 'IT', 'PROPOSING', 'TO', 'ACQUIRE', 'REMAINING', 'PCT', 'OF', 'CANADIAN', 'SUBSIDIARY']\n",
      "['BORG', 'WARNER', 'TO', 'SELL', 'INDUSTRIAL', 'PRODUCTS', 'BUSINESS', 'FOR', 'ABOUT', 'MLN']\n",
      "['First', 'quarter', 'exports', 'rose', 'pct', '9', '4', 'billion', 'dlrs']\n",
      "['The', 'fall', 'compares', 'with', 'decline', '0', '2', 'pct', 'in', 'December']\n",
      "['The', 'MITI', 'official', 'said', 'MITI', 'undertakes', 'such', 'surveys', 'when', 'exchange', 'rates', 'fluctuate', 'widely']\n",
      "['Six', 'are', 'load', 'tonnes', 'wheat', 'for', 'the', 'Soviet', 'Union']\n",
      "['EXPORTERS', 'REPORT', 'TONNES', 'CORN', 'SOLD', 'TO', 'THE', 'USSR', 'FOR']\n",
      "['CANADA', 'MLN', 'DLR', 'T', 'BILL', 'ISSUE', 'YIELD', 'AVERAGE', '8', 'PCT', 'OFFICIAL']\n",
      "['It', 's', 'backward', 'movement', 'goes', 'against', 'the', 'government', 's']\n",
      "['Regulators', 'also', 'have', 'criticized', 'the', 'industry', 'citing', 'quality', 'problems', 'needless', 'overprescription', 'pacemakers']\n",
      "['FED', 'SAYS', 'IT', 'BUYS', 'MLN', 'OF', 'BILLS', 'FOR', 'CUSTOMER', 'MAY', 'THROUGH', 'SEPT', 'MATURITY']\n",
      "['Worthy', 'but', 'boring', 'would', 'probably', 'sum', 'it', 'up', 'Peter', 'Fellner', 'U', 'K']\n",
      "['Stearns', 'based', 'in', 'Crowley', 'Texas', 'makes', 'airport', 'baggage', 'conveyor', 'equipment', 'passenger', 'loading', 'bridges']\n",
      "['It', 'said', 'corn', 'producers', 'will', 'receive', 'about', 'mln', 'dlrs', 'sorghum', 'producers', 'about', 'mln', 'dlrs']\n",
      "['PRI', 'said', 'all', 'Shell', 'brand', 'products', 'sold', 'under', 'this', 'agreement', 'will', 'be', 'manufactured', 'Shell', 'specifications']\n",
      "['Liberal', 'Democrats', 'said', 'lack', 'any', 'restrictions', 'in', 'the', 'bill', 'implied', 'consent', 'Reagan', 's', 'policies']\n",
      "['Some', 'bankers', 'expect', 'the', 'deregulation', 'rates', 'result', 'in', 'pct', 'drop', 'in', 'profits', 'this', 'year']\n",
      "['No', 'replanting', 'has', 'been', 'successful', 'said', 'Almy', 'from', 'the', 'Indonesian', 'Network', 'for', 'Forest', 'Conservation']\n",
      "['The', 'restructuring', 'was', 'announced', 'in', 'December', 'after', 'Carter', 'Hawley', 'rejected', 'buy', 'out', 'offer', 'by', 'Retail', 'Partners']\n",
      "['The', 'Hughes', 'board', 'last', 'week', 'indicated', 'that', 'it', 'might', 'cancel', 'the', 'merger', 'because', 'the', 'Department', 'Justice', 'requirement']\n",
      "['HUDSON', 'S', 'BAY', 'CO', 'HAD', 'OF', '4', 'MLN', 'MAINLY', 'ON', 'STAKE', 'IN', 'DOME', 'PETROLEUM']\n",
      "['The', 'company', 'said', 'the', 'two', 'units', 'combined', 'are', 'expected', 'have', 'net', 'revenues', 'about', 'mln', 'dlrs', 'in']\n",
      "['Under', '0', 'farmer', 'can', 'forego', 'planting', 'crop', 'but', 'still', 'collect', 'pct', 'deficiency', 'payments']\n",
      "['He', 'said', 'the', 'EC', 's', 'executive', 'commission', 'had', 'accepted', 'the', 'government', 's', 'view', 'that', 'EPAC', 'should', 'be', 'eligible']\n",
      "['The', 'EC', 'in', 'ruled', 'all', 'EC', 'oilseed', 'imports', 'duty', 'free', 'in', 'an', 'effort', 'fill', 'its', 'oilseed', 'needs']\n",
      "['I', 'think', 'he', 's', 'going', 'be', 'the', 'next', 'Frank', 'Lorenzo', 'Wall', 'Street', 'said', 'one', 'market', 'source']\n",
      "['The', 'offer', 'is', 'not', 'conditioned', 'on', 'receipt', 'any', 'minimum', 'number', 'shares', 'but', 'is', 'conditioned', 'on', 'the', 'arrangement', 'financing']\n",
      "['All', 'that', 'some', 'countries', 'would', 'like', 'have', 'would', 'be', 'wheat', 'agreement', 'where', 'we', 'would', 'stop', 'export', 'subsidies', 'on', 'wheat']\n",
      "['They', 'named', 'Kuwait', 'the', 'United', 'Arab', 'Emirates', 'along', 'with', 'the', 'much', 'smaller', 'producer', 'Ecuador', 'among', 'those', 'producing', 'above', 'quota']\n",
      "['It', 'said', 'the', 'restructuring', 'as', 'partnership', 'has', 'substantially', 'increased', 'the', 'cash', 'available', 'for', 'distribution', 'unitholders', 'as', 'it', 'had', 'predicted']\n",
      "['API', 'SAYS', 'STOCKS', 'UP', '2', 'MLN', 'BBLS', 'GASOLINE', 'OFF', '2', 'MLN', 'CRUDE', 'OFF', '1', 'MLN']\n",
      "['Awards', 'are', 'determined', 'by', 'whichever', 'the', 'two', 'methods', 'is', 'most', 'cost', 'advantageous', 'based', 'on', 'the', 'cost', 'money', 'at', 'that', 'time']\n",
      "['Some', 'the', 'disputes', 'dating', 'back', 'about', 'years', 'were', 'brought', 'by', 'groups', 'that', 'alleged', 'improper', 'foreign', 'payments', 'political', 'contributions']\n",
      "['The', 'preferred', 'share', 'has', 'par', 'value', 'dlrs', 'is', 'retractable', 'at', 'the', 'holder', 's', 'option', 'on', 'May', '1']\n",
      "['Consolidated', 'owns', 'mining', 'concessions', 'in', 'three', 'regions', 'eastern', 'northern', 'Brazil', 'Santo', 'Antonio', 'the', 'company', 'said']\n",
      "['Last', 'week', 'also', 'saw', 'widespread', 'protests', 'by', 'hundreds', 'thousands', 'farmers', 'over', 'what', 'they', 'see', 'as', 'unfairly', 'high', 'interest', 'rates', 'charged', 'by', 'banks']\n",
      "['But', 'he', 'said', 'the', 'question', 'was', 'still', 'being', 'considered', 'by', 'Trade', 'Minister', 'Rachmat', 'Saleh', 'no', 'decision', 'on', 'when', 'go', 'ahead', 'had', 'been', 'made']\n",
      "['The', 'minister', 'also', 'state', 'subsidies', 'which', 'he', 'said', 'mainly', 'large', 'companies', 'created', 'tax', 'burden', 'for', 'smaller', 'medium', 'sized', 'firms']\n",
      "['And', 'the', 'Australian', 'Reserve', 'Bank', 'using', 'the', 'Fed', 'as', 'agent', 'sold', 'Australian', 'dollars', 'in', 'the', 'U', 'S', 'yesterday', 'dealers', 'said']\n",
      "['They', 'agreed', 'however', 'that', 'further', 'actions', 'will', 'be', 'essential', 'resist', 'rising', 'protectionist', 'pressures', 'sustain', 'global', 'economic', 'expansion', 'reduce', 'trade', 'imbalances']\n",
      "['The', 'delegate', 'said', 'unless', 'major', 'producers', 'like', 'Brazil', 'showed', 'readiness', 'negotiate', 'new', 'quota', 'shares', 'prospects', 'for', 'quota', 'accord', 'in', 'October', 'also', 'looked', 'bleak']\n",
      "['In', 'addition', 'Attilio', 'Petrocelli', 'president', 'Metropolitan', 'was', 'named', 'fill', 'vacancy', 'on', 'the', 'Metex', 'board', 'directors', 'the', 'company', 'said']\n",
      "['Bentsen', 'said', 'coordinated', 'rate', 'cuts', 'could', 'take', 'billions', 'off', 'the', 'debt', 'service', 'the', 'Latin', 'countries', 'help', 'ease', 'protectionist', 'pressures', 'in', 'the', 'industrial', 'countries']\n",
      "['Next', 'week', 'Mississippi', 'Alton', 'Granite', 'City', 'MLA', 'if', 'P', 'O', 'bid', 'five', 'points', 'higher', 'at', 'pct', 'offered', 'at']\n",
      "['Partly', 'offsetting', 'these', 'outflows', 'exchequer', 'transactions', 'fall', 'in', 'note', 'circulation', 'will', 'add', 'some', 'mln', 'stg', 'mln', 'stg', 'the', 'system', 'respectively']\n",
      "['However', 'in', 'general', 'plant', 'development', 'was', 'at', 'least', 'three', 'weeks', 'or', 'more', 'behind', 'normal', 'this', 'spring', 'conditions', 'varied', 'greatly', 'by', 'regions', 'the', 'report', 'said']\n",
      "['WHITE', 'HOUSE', 'SAYS', 'INTEREST', 'RATES', 'REFLECT', 'MARKET', 'The', 'White', 'House', 'said', 'the', 'rise', 'in', 'interest', 'rates', 'was', 'unfortunate', 'in', 'general', 'sense', 'but', 'reflected', 'market', 'forces']\n",
      "['Last', 'October', 'Schlumberger', 'announced', 'the', 'sale', 'the', 'Fairchild', 'stake', 'said', 'it', 'would', 'take', 'mln', 'dlrs', 'charge', 'in', 'the', 'fourth', 'quarter', 'from', 'the', 'sale']\n",
      "['Lichtblau', 'said', 'the', 'U', 'S', 'depended', 'on', 'foreign', 'suppliers', 'for', 'pct', 'its', 'oil', 'in', 'predicted', 'that', 'would', 'increase', 'pct', 'by']\n",
      "['The', 'market', 'feels', 'it', 'can', 'take', 'on', 'the', 'central', 'banks', 'win', 'said', 'Michael', 'Snow', 'head', 'treasury', 'operations', 'at', 'Union', 'Bank', 'Switzerland', 'in', 'New', 'York']\n",
      "['There', 'is', 'no', 'official', 'confirmation', 'that', 'specific', 'bands', 'were', 'set', 'although', 'the', 'agreement', 'used', 'the', 'term', 'ranges', 'for', 'the', 'first', 'time', 'in', 'an', 'international', 'economic', 'agreement']\n"
     ]
    },
    {
     "name": "stdout",
     "output_type": "stream",
     "text": [
      "['World', 'cereal', 'stocks', 'at', 'the', 'end', 'were', 'forecast', 'rise', 'mln', 'tonnes', 'record', 'mln', 'tonnes', 'softening', 'the', 'impact', 'reduced', 'production']\n",
      "['This', 'development', 'was', 'aided', 'by', 'cooperation', 'between', 'the', 'bank', 'the', 'savings', 'banks', 'in', 'the', 'West', 'German', 'state', 'North', 'Rhine', 'Westphalia', 'where', 'parent', 'bank', 'WestLB', 'is', 'based']\n",
      "['These', 'certificates', 'will', 'provide', 'ample', 'free', 'supplies', 'corn', 'wheat', 'for', 'the', 'remainder', 'the', 'crop', 'year', 'the', 'department', 'said', 'in', 'summary', 'its', 'Agricultural', 'Outlook', 'report']\n",
      "['Paul', 'Cain', 'vice', 'president', 'at', 'Shearson', 'Lehman', 'Brothers', 'said', 'the', 'elimination', 'price', 'limits', 'will', 'cut', 'back', 'on', 'panic', 'buying', 'or', 'selling', 'contribute', 'more', 'orderly', 'markets']\n",
      "['Beall', 'said', 'the', 'recent', 'trend', 'toward', 'cost', 'sharing', 'in', 'the', 'research', 'development', 'phase', 'government', 'contracts', 'should', 'not', 'have', 'major', 'impact', 'on', 'Rockwell', 's', 'near', 'term', 'performance']\n",
      "['In', 'line', 'with', 'its', 'planned', 'Global', 'expansion', 'efforts', 'Benetton', 'is', 'also', 'holding', 'talks', 'with', 'the', 'Soviet', 'Union', 'explore', 'the', 'possibility', 'opening', 'up', 'stores', 'in', 'the', 'country']\n",
      "['ROCHESTER', '&', 'lt', 'RTC', '>', 'ACQUIRES', '&', 'lt', 'CANTON', 'TELEPHONE', 'CO', '>', 'Rochester', 'Telephone', 'Corp', 'said', 'it', 'completed', 'the', 'acquisition', 'Canton', 'Telephone', 'Co', 'is', 'now', 'operating', 'the', 'company']\n",
      "['IRAQ', 'TURKEY', 'OIL', 'PIPELINE', 'CUT', 'BY', 'LANDSLIDE', 'Turkey', 'oil', 'pipeline', 'near', 'the', 'southern', 'town', 'Adana', 'after', 'it', 'was', 'cut', 'by', 'landslide', 'the', 'Hurriyet', 'Anatolian', 'news', 'agencies', 'said']\n",
      "['The', 'company', 'drilled', 'wells', 'offshore', 'with', 'leading', 'the', 'discovery', 'hydrocarbons', 'although', 'it', 'is', 'too', 'early', 'gauge', 'the', 'commercial', 'viability', 'these', 'discoveries', 'Reid', 'said']\n",
      "['MORE', 'GOLD', 'DETECTED', 'AT', 'MINE', 'Lac', 'Minerals', 'Ltd', 'Cambior', 'Inc', 'said', 'they', 'completed', 'second', 'hole', 'at', 'their', 'jointly', 'owned', 'Doyon', 'mine', 'in', 'Quebec', 'which', 'showed', 'two', 'significant', 'gold', 'intersections']\n",
      "['The', 'company', 'said', 'detailed', 'disclosure', 'an', 'acquisition', 'offer', 'must', 'be', 'made', 'the', 'Panamanian', 'National', 'Securities', 'Commission', 'or', 'the', 'target', 's', 'board', 'before', 'acquiring', 'more', 'than', 'five', 'pct', 'stake']\n",
      "['BALL', 'CORP', '&', 'lt', 'BLL', '>', 'COMPLETES', 'ACQUISITION', 'Ball', 'Corp', 'said', 'it', 'completed', 'the', 'purchase', 'privately', 'held', '&', 'lt', 'Inc', 'San', 'Diego', 'defense', 'systems', 'software', 'development', 'company']\n",
      "['We', 'expect', 'file', 'papers', 'late', 'tonight', 'asking', 'the', 'ICC', 'reopen', 'the', 'rail', 'merger', 'case', 'spokesman', 'Rich', 'Hall', 'said', 'in', 'telephone', 'interview', 'from', 'the', 'company', 's', 'Chicago', 'headquarters']\n",
      "['Imperial', 'Oil', 'said', 'it', 'expects', 'spend', 'about', 'mln', 'dlrs', 'on', 'capital', 'exploration', 'expenditures', 'in', 'compared', 'mln', 'dlrs', 'in', '1', 'billion', 'dlrs', 'in']\n",
      "['SEDGWICK', 'BUYS', 'BSI', 'Sedgwick', 'Group', 'Plc', '&', 'lt', 'L', '>', 'said', 'its', 'wholly', 'owned', 'Canadian', 'subsidiary', 'Sedgwick', 'Inc', 'had', 'acquired', 'BSi', 'Incorp', 'for', 'maximum', 'eight', 'mln', 'Canadian', 'dlrs']\n",
      "['Earlier', 'today', 'London', 'traders', 'had', 'expected', 'the', 'subsidy', 'for', 'the', 'current', 'season', 'whites', 'campaign', 'for', 'end', 'Aug', 'be', 'between', 'per', 'kilos']\n",
      "['Net', 'includes', 'loan', 'loss', 'provisions', '5', 'dlrs', 'vs', '4', 'dlrs', 'in', 'quarter', '3', 'mln', 'dlrs', 'vs', '4', 'mln', 'dlrs', 'in', 'nin', 'mths']\n",
      "['The', 'talks', 'now', 'in', 'their', 'second', 'week', 'are', 'aimed', 'at', 'stretching', 'out', 'repayments', '3', '6', 'billion', 'dlrs', 'debt', 'granting', 'easier', 'terms', 'on', '5', '8', 'billion', 'already', 'rescheduled', 'debt']\n",
      "['A', 'consortium', 'pct', 'owned', 'by', 'Teck', 'pct', 'each', 'by', 'MIM', 'Canada', 'Inc', 'Metallgesellschaft', 'Canada', 'Ltd', 'acquired', 'its', 'Cominco', 'stake', 'last', 'year', 'from', 'Canadian', 'Pacific', 'Ltd', '&', 'lt', 'CP']\n",
      "['Douglas', 'said', 'it', 'was', 'too', 'early', 'project', 'whether', 'the', 'anticipated', 'fourth', 'quarter', 'performance', 'would', 'be', 'enough', 'for', 'us', 'exceed', 'the', 'prior', 'year', 's', 'overall', 'earnings', '1', 'dlrs', 'share']\n",
      "['Net', 'includes', 'gains', 'on', 'sale', 'securities', 'pretax', '1', 'dlrs', 'vs', 'dlrs', 'in', 'quarter', '5', 'dlrs', 'vs', '3', 'dlrs', 'in', 'year']\n",
      "['He', 'said', 'studies', 'by', 'international', 'had', 'made', 'it', 'clear', 'that', 'especially', 'in', 'the', 'U', 'S', 'And', 'in', 'Japan', 'major', 'efforts', 'remained', 'necessary', 'support', 'adjustments', 'in', 'foreign', 'trade', 'balances', 'via', 'necessary', 'corrections', 'economic', 'policy']\n",
      "['Following', 'its', 'fall', 'today', 'record', 'yen', 'dealers', 'said', 'they', 'expect', 'the', 'dollar', 'establish', 'new', 'trading', 'range', 'yen', 'before', 'the', 'market', 'again', 'tries', 'push', 'it', 'down']\n",
      "['JACOBS', 'TAKES', 'MAJORITY', 'STAKE', 'IN', 'COTE', 'D', 'OR', 'Jacobs', 'Suchard', 'AG', 'said', 'it', 'acquired', 'comfortable', 'majority', 'interest', 'in', 'its', 'takeover', 'bid', 'for', 'Cote', 'd', 'Or', 'SA', 'Belgium', 's', 'leading', 'producer', 'chocolate']\n",
      "['Jaap', 'managing', 'director', 'downstream', 'unit', '&', 'lt', 'Shell', 'U', 'K', 'Oil', 'said', 'refining', 'margins', 'in', 'the', 'first', 'quarter', 'were', 'bit', 'better', 'than', 'the', 'very', 'bad', 'fourth', 'quarter']\n",
      "['Wellemeyer', 'speaking', 'reporters', 'at', 'an', 'offshore', 'oil', 'engineering', 'conference', 'also', 'said', 'he', 'expected', 'OPEC', 'nations', 'attempt', 'hold', 'prices', 'under', 'dlrs', 'barrel', 'for', 'several', 'years', 'keep', 'industrial', 'demand', 'for', 'residual', 'fuel', 'oil', 'strong']\n",
      "['U', 'S', 'Agriculture', 'Secretary', 'Richard', 'Lyng', 'who', 'is', 'due', 'visit', 'Japan', 'for', 'talks', 'between', 'April', 'has', 'said', 'he', 'will', 'ask', 'Japan', 'offer', 'share', 'its', 'rice', 'market', 'U', 'S']\n",
      "['Latest', 'data', 'for', 'central', 'bank', 'money', 'stock', 'the', 'Bundesbank', 's', 'main', 'measure', 'money', 'supply', 'showed', 'the', 'measure', 'was', 'growing', 'at', '7', '1', '2', 'pct', 'in', 'January', 'outside', 'its', 'three', 'six', 'pct', 'target']\n",
      "['IFR', 'SYSTEMS', 'INC', '&', 'lt', 'IFRS', 'O', '>', '1ST', 'QTR', 'SEPT', 'NET', 'Shr', 'cts', 'vs', 'cts', 'Net', '1', 'vs', 'Sales', '9', 'vs', '7']\n",
      "['I', 'am', 'sure', 'that', 'if', 'such', 'management', 'buyout', 'is', 'occur', 'I', 'am', 'hopeful', 'that', 'it', 'does', 'the', 'public', 'market', 'is', 'one', 'the', 'avenues', 'we', 'will', 'ultimately', 'have', 'use', 'raise', 'capital', 'Brooks', 'said']\n",
      "['STANDARD', 'OIL', '&', 'lt', 'SRD', '>', 'COMMITTEE', 'TRIED', 'TO', 'DELAY', 'BID', 'A', 'committee', 'independent', 'directors', 'the', 'Standard', 'Oil', 'Co', 'unsuccessfully', 'sought', 'delay', 'in', 'tender', 'offer', 'for', 'Standard', 'shares', 'by', 'British', 'Petroleum', 'Co', 'plc', 'according', 'offering', 'documents']\n",
      "['GERMAN', 'MONEY', 'MARKET', 'SPLIT', 'ON', 'LOWER', 'RATE', 'PROSPECTS', 'Remarks', 'by', 'central', 'bankers', 'raised', 'some', 'hopes', 'the', 'Bundesbank', 'will', 'cut', 'rates', 'on', 'securities', 'repurchase', 'pacts', 'but', 'operators', 'remained', 'divided', 'on', 'the', 'likelihood', 'move', 'in', 'the', 'near', 'term', 'money', 'market', 'dealers', 'said']\n",
      "['Last', 'year', 'Irish', 'yields', 'were', 'the', 'lowest', 'for', 'years', 'due', 'late', 'sowings', 'the', 'state', 'run', 'Irish', 'Sugar', 'Plc', 'said', 'the', 'plantings', 'target', 'is', 'the', 'equivalent', 'hectares', 'down', 'from', 'in']\n",
      "['PCGG', 'sources', 'said', 'SMC', 'the', 'Philippines', 'largest', 'food', 'beverage', 'manufacturer', 'has', 'agreed', 'sell', 'mln', 'B', 'class', 'shares', 'from', 'the', '1', 'mln', 'shares', 'Australian', 'brewer', 'Alan', 'Bond', 'at', 'price', 'pesos', 'per', 'share']\n"
     ]
    },
    {
     "name": "stdout",
     "output_type": "stream",
     "text": [
      "['EC', 'U', 'S', 'PLAN', 'HIGH', 'LEVEL', 'TRADE', 'TALKS', 'The', 'European', 'Community', 'is', 'willing', 'offer', 'limited', 'concessions', 'the', 'United', 'States', 'on', 'one', 'two', 'major', 'issues', 'which', 'threaten', 'poison', 'their', 'trade', 'relations', 'next', 'year', 'an', 'EC', 'commission', 'spokesman', 'said']\n",
      "['Sosnoff', 'said', 'in', 'the', 'newspaper', 'advertisement', 'that', 'the', 'amended', 'offer', 'is', 'conditioned', 'on', 'receipt', 'enough', 'shares', 'give', 'him', 'majority', 'interest', 'on', 'fully', 'diluted', 'basis', 'on', 'the', 'arrangement', 'financing', 'as', 'well', 'as', 'approvals', 'by', 'New', 'Jersey', 'Nevada', 'gaming', 'authorities']\n",
      "['Siew', 'said', 'the', 'talks', 'starting', 'on', 'April', 'would', 'cover', 'U', 'S', 'Calls', 'for', 'Taiwan', 'open', 'its', 'market', 'American', 'products', 'purchases', 'major', 'U', 'S', 'Machinery', 'power', 'plant', 'equipment', 'import', 'tariff', 'cuts', 'protection', 'intellectual', 'property']\n",
      "['Treasury', 'Secretary', 'James', 'Baker', 'went', 'out', 'his', 'way', 'reassure', 'markets', 'his', 'commitment', 'stable', 'dollar', 'with', 'statement', 'French', 'Finance', 'Minister', 'Edouard', 'Balladur', 'underscored', 'that', 'by', 'saying', 'I', 'don', 't', 'believe', 'at', 'all', 'that', 'the', 'Americans', 'want', 'weaker', 'dollar']\n",
      "CPU times: user 1h 22min 16s, sys: 5min 55s, total: 1h 28min 12s\n",
      "Wall time: 1h 8min 34s\n"
     ]
    }
   ],
   "source": [
    "%%time\n",
    "nfilledroles = np.array(range(1,50))\n",
    "berrors = np.zeros(49)\n",
    "nsamples = 1\n",
    "ndim=50\n",
    "bests = []\n",
    "trues = []\n",
    "for sample in range(nsamples):\n",
    "    rhats = sample_spherical(npoints=50, ndim=ndim)\n",
    "    processed_sents = 0\n",
    "    for sent in sents[::500]:\n",
    "        print(sent)\n",
    "        kp1 = len(sent) # k+1: the number of filled role vectors\n",
    "        error_c = 0\n",
    "        fillers = [wordvecs[sent[i]] for i in range(kp1)]\n",
    "        roles = [rhats[:, i] for i in range(kp1)]\n",
    "        T = sum([np.outer(wordvecs[sent[i]], rhats[:,i]) for i in range(kp1)]) # take TPR\n",
    "        sbests = []\n",
    "        strues = []\n",
    "        for i in range(kp1):\n",
    "            A_hat = fillers[i] # correct filler\n",
    "            f_tilde = np.inner(T, roles[i])\n",
    "            topi.append([])\n",
    "            strues.append(A_hat)\n",
    "            # solution is the vector with largest dot product with f_tilde\n",
    "            closeness = np.einsum('ij, j->i', wordvecs.vectors, f_tilde)\n",
    "            for i in range(50): # num topi\n",
    "                topi.append(wordvecs.vectors[np.argpartition(closeness, kth=i)[i]])\n",
    "            closest = topi[0]\n",
    "            # print(np.where(fillers==closest)[0][0]) # am I sure about this np.where?\n",
    "            if not np.array_equal(A_hat, closest):\n",
    "                error_c += 1\n",
    "            sbests.append(topi)\n",
    "        trues.append(strues)\n",
    "        errors[kp1-1] += error_c / kp1\n",
    "        processed_sents += 1\n",
    "        bests.append(sbests)\n",
    "#         if processed_sents%10000 == 0:\n",
    "#             print(processed_sents)"
   ]
  },
  {
   "cell_type": "code",
   "execution_count": 166,
   "metadata": {},
   "outputs": [
    {
     "name": "stderr",
     "output_type": "stream",
     "text": [
      "/usr/local/Cellar/jupyter/1.0.0_5/libexec/lib/python3.7/site-packages/ipykernel_launcher.py:14: RuntimeWarning: invalid value encountered in true_divide\n",
      "  \n"
     ]
    },
    {
     "data": {
      "image/png": "[encoded data removed]",
      "text/plain": [
       "<Figure size 432x288 with 1 Axes>"
      ]
     },
     "metadata": {},
     "output_type": "display_data"
    },
    {
     "name": "stdout",
     "output_type": "stream",
     "text": [
      "CPU times: user 36min 8s, sys: 3.69 s, total: 36min 11s\n",
      "Wall time: 36min 16s\n"
     ]
    }
   ],
   "source": [
    "%%time\n",
    "nfilledroles = np.array(range(1,50))\n",
    "#errors = errors / nsamples\n",
    "cerrors = np.zeros(49)\n",
    "for i, sent in enumerate(sents[::500]):\n",
    "    for j, word in enumerate(sent):\n",
    "        found = False\n",
    "        for v in bests[i][j]:\n",
    "            if np.array_equal(wordvecs[word], v):\n",
    "                found = True\n",
    "        if not found:\n",
    "            cerrors[len(sent)-1] += 1 / len(sent)\n",
    "num_sents_per_len = [sum(1 if len(sent)==i else 0 for sent in sents[::500]) for i in range(1,50)]\n",
    "\n",
    "percent_error = cerrors / num_sents_per_len\n",
    "\n",
    "\n",
    "#inspect errors\n",
    "# check one-hot\n",
    "\n",
    "plt.plot(nfilledroles,percent_error)\n",
    "plt.title('Unbiniding Errors as a function of sentence length with Word2Vec and position roles with dimesion %d' % (ndim))\n",
    "plt.xlabel('Sentence Length')\n",
    "plt.ylabel('Probability of Error')\n",
    "plt.show()"
   ]
  },
  {
   "cell_type": "code",
   "execution_count": 114,
   "metadata": {
    "scrolled": true
   },
   "outputs": [
    {
     "name": "stdout",
     "output_type": "stream",
     "text": [
      "2.6245756\n"
     ]
    }
   ],
   "source": [
    "s = sents[::500][98]\n",
    "semb = [wordvecs[s[i]] for i in range(len(s))]\n",
    "print(np.inner(semb[0],bests[98][0][6]))\n"
   ]
  },
  {
   "cell_type": "code",
   "execution_count": 24,
   "metadata": {},
   "outputs": [
    {
     "name": "stdout",
     "output_type": "stream",
     "text": [
      "Downloading corpus and nltk tools, if necessary.\n"
     ]
    },
    {
     "name": "stderr",
     "output_type": "stream",
     "text": [
      "[nltk_data] Error loading reuters: HTTP Error 500: Internal Server\n",
      "[nltk_data]     Error\n",
      "[nltk_data] Error loading punkt: HTTP Error 500: Internal Server Error\n"
     ]
    },
    {
     "name": "stdout",
     "output_type": "stream",
     "text": [
      "Beginning preprocessing...\n",
      "Getting sentences of length 50 or less.\n",
      "49442 sentences.\n",
      "[42, 68, 63, 281, 205, 259, 288, 463, 535, 745, 876, 976, 1088, 1199, 1125, 1271, 1381, 1431, 1455, 1454, 1445, 1497, 1615, 1604, 1641, 1469, 1418, 1501, 1534, 1532, 1387, 1393, 1366, 1228, 1254, 1181, 1216, 1104, 994, 993, 929, 834, 852, 789, 751, 657, 592, 495, 503]\n",
      "Pretrained wordvectors loaded.\n",
      "Beginning experiment...\n"
     ]
    }
   ],
   "source": [
    "    print(\"Downloading corpus and nltk tools, if necessary.\")\n",
    "    import nltk\n",
    "    import gensim\n",
    "    from gensim.models import KeyedVectors\n",
    "\n",
    "    nltk.download(\"reuters\")\n",
    "    nltk.download(\"punkt\")\n",
    "\n",
    "    print(\"Beginning preprocessing...\")\n",
    "    from nltk.corpus import reuters\n",
    "\n",
    "    sents = list(reuters.sents())\n",
    "    print(\"Getting sentences of length 50 or less.\")\n",
    "    sents.sort(key=len)\n",
    "    bound = 0\n",
    "    while len(sents[bound + 1]) <= 50:\n",
    "        bound += 1\n",
    "    # constrain upper length of sentences to have a fixed role set.\n",
    "    sents = sents[:bound]  # the sentences of length 50 or less\n",
    "\n",
    "    # print('Removing sentences of length 0.')\n",
    "    len0sents = []\n",
    "    for i, sent in enumerate(sents):\n",
    "        if len(sent) == 0:\n",
    "            len0sents.append(sent)\n",
    "        else:\n",
    "            sents[i] = [word.lower() for word in sent]\n",
    "    for sent in len0sents:\n",
    "        sents.remove(sent)\n",
    "    print(\"%d sentences.\" % (len(sents)))\n",
    "    num_sents_per_len = [\n",
    "        sum(1 if len(sent) == i else 0 for sent in sents) for i in range(1, 50)\n",
    "    ]\n",
    "    print(num_sents_per_len)\n",
    "\n",
    "    try:\n",
    "        wv = KeyedVectors.load(\"reuters.wv\", mmap=\"r\")\n",
    "        print(\"Pretrained wordvectors loaded.\")\n",
    "    except:\n",
    "        print(\"Training word2vec model.\")\n",
    "        model = gensim.models.Word2Vec(sents, size=300, min_count=1, workers=4)\n",
    "        print(\"Word2Vec training complete!\")\n",
    "        model.wv.save(\"reuters.wv\")\n",
    "        wv = model.wv\n",
    "\n",
    "    print(\"Beginning experiment...\")\n",
    "    error_prob = np.zeros(49)\n",
    "    # error_prob_topk = np.zeros(49)\n",
    "    nsamples = 1\n",
    "    sents.sort(key=len)\n",
    "    breaks = [i for i in range(1, len(sents)) if len(sents[i]) != len(sents[i - 1])]\n",
    "    fillerbank = torch.from_numpy(wv.vectors.T)\n",
    "    roledim = 100"
   ]
  },
  {
   "cell_type": "code",
   "execution_count": 63,
   "metadata": {},
   "outputs": [
    {
     "name": "stdout",
     "output_type": "stream",
     "text": [
      "0.4523809523809524\n",
      "0.4117647058823529\n",
      "0.3915343915343915\n",
      "0.1103202846975089\n",
      "0.23512195121951218\n",
      "0.2059202059202059\n",
      "0.2638888888888889\n",
      "0.2629589632829374\n",
      "0.27372793354101765\n",
      "0.27758389261744965\n",
      "0.25612287256122873\n",
      "0.2529883879781421\n",
      "0.26689762443438914\n",
      "0.2656976051471464\n",
      "0.2580148148148148\n",
      "0.2511801730920535\n",
      "0.2526302338458917\n",
      "0.2637627144964671\n",
      "0.2616748055706276\n",
      "0.26623108665749656\n",
      "0.260306475531389\n",
      "0.26049067832634965\n",
      "0.25925427379189664\n",
      "0.25667601828761427\n",
      "0.2575258988421694\n",
      "0.26017175472587317\n",
      "0.2666509951418273\n",
      "0.2719139621204911\n",
      "0.26558917412219574\n",
      "0.26781984334203657\n",
      "0.27427494941507546\n",
      "0.2728822684852836\n",
      "0.27483473091086563\n",
      "0.26975953247748613\n",
      "0.27017543859649124\n",
      "0.2722034057766488\n",
      "0.277071479374111\n",
      "0.270976353928299\n",
      "0.2866945261311459\n",
      "0.2787260825780463\n",
      "0.2800283546430728\n",
      "0.2728959689391344\n",
      "0.2796156785675292\n",
      "0.2787187463993548\n",
      "0.289273561177689\n",
      "0.271954205545629\n",
      "0.2737924094307073\n",
      "0.27584175084175083\n",
      "0.28822980484440297\n"
     ]
    }
   ],
   "source": [
    "error = np.zeros(50)\n",
    "# try random filler vecs with sentences\n",
    "# sanity check with orthonormal\n",
    "# try word2vec from big pretrained, constrained vocab\n",
    "# bigger filler vector size, bigger role vector size\n",
    "for i, brk in enumerate(breaks):\n",
    "    rhats = torch_sample_spherical(\n",
    "        npoints=50, ndim=roledim, nsamples=nsamples\n",
    "    )\n",
    "    if i == 0:\n",
    "        to_process = sents[:brk]\n",
    "    else:\n",
    "        to_process = sents[breaks[i - 1] : brk]\n",
    "    nbindings = len(to_process[0])\n",
    "    sents.sort(key=len)\n",
    "    fillervecs = (\n",
    "        torch.stack(\n",
    "            [\n",
    "                torch.stack(\n",
    "                    [torch.from_numpy(wv[sent[j]]) for j in range(nbindings)], dim=1\n",
    "                )\n",
    "                for sent in to_process\n",
    "            ],\n",
    "            dim=2,\n",
    "        )\n",
    "        .unsqueeze(-1)\n",
    "        .expand(-1, -1, -1, nsamples)\n",
    "    )\n",
    "    x = torch.load(f'tops_word2vec_len{i}.pt')\n",
    "    topk = torch.topk(x, 25, dim=0)\n",
    "    topkvecs = torch.gather(fillerbank.unsqueeze(-1).unsqueeze(-1).unsqueeze(-1).expand(-1, -1, nbindings, len(to_process), nsamples), 1, topk.indices.unsqueeze(0).expand(300, -1, -1, -1, -1))\n",
    "    intopk = torch.min(torch.abs(torch.sum(topkvecs - fillervecs.unsqueeze(1).expand(-1, 25, -1, -1, -1), dim=0)), dim=0)\n",
    "    error[i] = len(intopk.values.nonzero()) / intopk.values.numel()\n",
    "    print(error[i])\n",
    "    "
   ]
  },
  {
   "cell_type": "code",
   "execution_count": 64,
   "metadata": {},
   "outputs": [
    {
     "name": "stdout",
     "output_type": "stream",
     "text": [
      "0.023809523809523808\n",
      "0.08823529411764706\n",
      "0.1746031746031746\n",
      "0.013345195729537367\n",
      "0.05853658536585366\n",
      "0.05148005148005148\n",
      "0.07341269841269842\n"
     ]
    },
    {
     "ename": "KeyboardInterrupt",
     "evalue": "",
     "output_type": "error",
     "traceback": [
      "\u001b[0;31m---------------------------------------------------------------------------\u001b[0m",
      "\u001b[0;31mKeyboardInterrupt\u001b[0m                         Traceback (most recent call last)",
      "\u001b[0;32m<ipython-input-64-d77f16e1fa12>\u001b[0m in \u001b[0;36m<module>\u001b[0;34m\u001b[0m\n\u001b[1;32m     26\u001b[0m     \u001b[0mtopk\u001b[0m \u001b[0;34m=\u001b[0m \u001b[0mtorch\u001b[0m\u001b[0;34m.\u001b[0m\u001b[0mtopk\u001b[0m\u001b[0;34m(\u001b[0m\u001b[0mx\u001b[0m\u001b[0;34m,\u001b[0m \u001b[0;36m2000\u001b[0m\u001b[0;34m,\u001b[0m \u001b[0mdim\u001b[0m\u001b[0;34m=\u001b[0m\u001b[0;36m0\u001b[0m\u001b[0;34m)\u001b[0m\u001b[0;34m\u001b[0m\u001b[0;34m\u001b[0m\u001b[0m\n\u001b[1;32m     27\u001b[0m     \u001b[0mtopkvecs\u001b[0m \u001b[0;34m=\u001b[0m \u001b[0mtorch\u001b[0m\u001b[0;34m.\u001b[0m\u001b[0mgather\u001b[0m\u001b[0;34m(\u001b[0m\u001b[0mfillerbank\u001b[0m\u001b[0;34m.\u001b[0m\u001b[0munsqueeze\u001b[0m\u001b[0;34m(\u001b[0m\u001b[0;34m-\u001b[0m\u001b[0;36m1\u001b[0m\u001b[0;34m)\u001b[0m\u001b[0;34m.\u001b[0m\u001b[0munsqueeze\u001b[0m\u001b[0;34m(\u001b[0m\u001b[0;34m-\u001b[0m\u001b[0;36m1\u001b[0m\u001b[0;34m)\u001b[0m\u001b[0;34m.\u001b[0m\u001b[0munsqueeze\u001b[0m\u001b[0;34m(\u001b[0m\u001b[0;34m-\u001b[0m\u001b[0;36m1\u001b[0m\u001b[0;34m)\u001b[0m\u001b[0;34m.\u001b[0m\u001b[0mexpand\u001b[0m\u001b[0;34m(\u001b[0m\u001b[0;34m-\u001b[0m\u001b[0;36m1\u001b[0m\u001b[0;34m,\u001b[0m \u001b[0;34m-\u001b[0m\u001b[0;36m1\u001b[0m\u001b[0;34m,\u001b[0m \u001b[0mnbindings\u001b[0m\u001b[0;34m,\u001b[0m \u001b[0mlen\u001b[0m\u001b[0;34m(\u001b[0m\u001b[0mto_process\u001b[0m\u001b[0;34m)\u001b[0m\u001b[0;34m,\u001b[0m \u001b[0mnsamples\u001b[0m\u001b[0;34m)\u001b[0m\u001b[0;34m,\u001b[0m \u001b[0;36m1\u001b[0m\u001b[0;34m,\u001b[0m \u001b[0mtopk\u001b[0m\u001b[0;34m.\u001b[0m\u001b[0mindices\u001b[0m\u001b[0;34m.\u001b[0m\u001b[0munsqueeze\u001b[0m\u001b[0;34m(\u001b[0m\u001b[0;36m0\u001b[0m\u001b[0;34m)\u001b[0m\u001b[0;34m.\u001b[0m\u001b[0mexpand\u001b[0m\u001b[0;34m(\u001b[0m\u001b[0;36m300\u001b[0m\u001b[0;34m,\u001b[0m \u001b[0;34m-\u001b[0m\u001b[0;36m1\u001b[0m\u001b[0;34m,\u001b[0m \u001b[0;34m-\u001b[0m\u001b[0;36m1\u001b[0m\u001b[0;34m,\u001b[0m \u001b[0;34m-\u001b[0m\u001b[0;36m1\u001b[0m\u001b[0;34m,\u001b[0m \u001b[0;34m-\u001b[0m\u001b[0;36m1\u001b[0m\u001b[0;34m)\u001b[0m\u001b[0;34m)\u001b[0m\u001b[0;34m\u001b[0m\u001b[0;34m\u001b[0m\u001b[0m\n\u001b[0;32m---> 28\u001b[0;31m     \u001b[0mintopk\u001b[0m \u001b[0;34m=\u001b[0m \u001b[0mtorch\u001b[0m\u001b[0;34m.\u001b[0m\u001b[0mmin\u001b[0m\u001b[0;34m(\u001b[0m\u001b[0mtorch\u001b[0m\u001b[0;34m.\u001b[0m\u001b[0mabs\u001b[0m\u001b[0;34m(\u001b[0m\u001b[0mtorch\u001b[0m\u001b[0;34m.\u001b[0m\u001b[0msum\u001b[0m\u001b[0;34m(\u001b[0m\u001b[0mtopkvecs\u001b[0m \u001b[0;34m-\u001b[0m \u001b[0mfillervecs\u001b[0m\u001b[0;34m.\u001b[0m\u001b[0munsqueeze\u001b[0m\u001b[0;34m(\u001b[0m\u001b[0;36m1\u001b[0m\u001b[0;34m)\u001b[0m\u001b[0;34m.\u001b[0m\u001b[0mexpand\u001b[0m\u001b[0;34m(\u001b[0m\u001b[0;34m-\u001b[0m\u001b[0;36m1\u001b[0m\u001b[0;34m,\u001b[0m \u001b[0;36m2000\u001b[0m\u001b[0;34m,\u001b[0m \u001b[0;34m-\u001b[0m\u001b[0;36m1\u001b[0m\u001b[0;34m,\u001b[0m \u001b[0;34m-\u001b[0m\u001b[0;36m1\u001b[0m\u001b[0;34m,\u001b[0m \u001b[0;34m-\u001b[0m\u001b[0;36m1\u001b[0m\u001b[0;34m)\u001b[0m\u001b[0;34m,\u001b[0m \u001b[0mdim\u001b[0m\u001b[0;34m=\u001b[0m\u001b[0;36m0\u001b[0m\u001b[0;34m)\u001b[0m\u001b[0;34m)\u001b[0m\u001b[0;34m,\u001b[0m \u001b[0mdim\u001b[0m\u001b[0;34m=\u001b[0m\u001b[0;36m0\u001b[0m\u001b[0;34m)\u001b[0m\u001b[0;34m\u001b[0m\u001b[0;34m\u001b[0m\u001b[0m\n\u001b[0m\u001b[1;32m     29\u001b[0m     \u001b[0merror1\u001b[0m\u001b[0;34m[\u001b[0m\u001b[0mi\u001b[0m\u001b[0;34m]\u001b[0m \u001b[0;34m=\u001b[0m \u001b[0mlen\u001b[0m\u001b[0;34m(\u001b[0m\u001b[0mintopk\u001b[0m\u001b[0;34m.\u001b[0m\u001b[0mvalues\u001b[0m\u001b[0;34m.\u001b[0m\u001b[0mnonzero\u001b[0m\u001b[0;34m(\u001b[0m\u001b[0;34m)\u001b[0m\u001b[0;34m)\u001b[0m \u001b[0;34m/\u001b[0m \u001b[0mintopk\u001b[0m\u001b[0;34m.\u001b[0m\u001b[0mvalues\u001b[0m\u001b[0;34m.\u001b[0m\u001b[0mnumel\u001b[0m\u001b[0;34m(\u001b[0m\u001b[0;34m)\u001b[0m\u001b[0;34m\u001b[0m\u001b[0;34m\u001b[0m\u001b[0m\n\u001b[1;32m     30\u001b[0m     \u001b[0mprint\u001b[0m\u001b[0;34m(\u001b[0m\u001b[0merror1\u001b[0m\u001b[0;34m[\u001b[0m\u001b[0mi\u001b[0m\u001b[0;34m]\u001b[0m\u001b[0;34m)\u001b[0m\u001b[0;34m\u001b[0m\u001b[0;34m\u001b[0m\u001b[0m\n",
      "\u001b[0;31mKeyboardInterrupt\u001b[0m: "
     ]
    }
   ],
   "source": [
    "error1 = np.zeros(50)\n",
    "for i, brk in enumerate(breaks):\n",
    "    rhats = torch_sample_spherical(\n",
    "        npoints=50, ndim=roledim, nsamples=nsamples\n",
    "    )\n",
    "    if i == 0:\n",
    "        to_process = sents[:brk]\n",
    "    else:\n",
    "        to_process = sents[breaks[i - 1] : brk]\n",
    "    nbindings = len(to_process[0])\n",
    "    sents.sort(key=len)\n",
    "    fillervecs = (\n",
    "        torch.stack(\n",
    "            [\n",
    "                torch.stack(\n",
    "                    [torch.from_numpy(wv[sent[j]]) for j in range(nbindings)], dim=1\n",
    "                )\n",
    "                for sent in to_process\n",
    "            ],\n",
    "            dim=2,\n",
    "        )\n",
    "        .unsqueeze(-1)\n",
    "        .expand(-1, -1, -1, nsamples)\n",
    "    )\n",
    "    x = torch.load(f'tops_word2vec_len{i}.pt')\n",
    "    topk = torch.topk(x, 2000, dim=0)\n",
    "    topkvecs = torch.gather(fillerbank.unsqueeze(-1).unsqueeze(-1).unsqueeze(-1).expand(-1, -1, nbindings, len(to_process), nsamples), 1, topk.indices.unsqueeze(0).expand(300, -1, -1, -1, -1))\n",
    "    intopk = torch.min(torch.abs(torch.sum(topkvecs - fillervecs.unsqueeze(1).expand(-1, 2000, -1, -1, -1), dim=0)), dim=0)\n",
    "    error1[i] = len(intopk.values.nonzero()) / intopk.values.numel()\n",
    "    print(error1[i])"
   ]
  },
  {
   "cell_type": "code",
   "execution_count": null,
   "metadata": {},
   "outputs": [],
   "source": [
    "x = torch.load('tops_word2vec_len1.pt')"
   ]
  },
  {
   "cell_type": "code",
   "execution_count": 37,
   "metadata": {},
   "outputs": [
    {
     "name": "stdout",
     "output_type": "stream",
     "text": [
      "torch.Size([2, 68, 1])\n"
     ]
    }
   ],
   "source": [
    "topk = torch.topk(x, 25, dim=0)\n",
    "print(topk.indices[0].shape)"
   ]
  },
  {
   "cell_type": "code",
   "execution_count": 67,
   "metadata": {},
   "outputs": [
    {
     "data": {
      "image/png": "[encoded data removed]",
      "text/plain": [
       "<Figure size 432x288 with 1 Axes>"
      ]
     },
     "metadata": {
      "needs_background": "light"
     },
     "output_type": "display_data"
    }
   ],
   "source": [
    "x1 = np.array(range(1,50))\n",
    "plt.plot(x1,error[:49])\n",
    "plt.title('word2vec unbinding error as a functiton of sentence length.')\n",
    "plt.xlabel('Number of role vectors')\n",
    "plt.ylabel('Probability of Error')\n",
    "plt.show()"
   ]
  },
  {
   "cell_type": "code",
   "execution_count": 17,
   "metadata": {
    "scrolled": true
   },
   "outputs": [
    {
     "data": {
      "text/plain": [
       "Text(0,0.5,'Probability of Error')"
      ]
     },
     "execution_count": 17,
     "metadata": {},
     "output_type": "execute_result"
    },
    {
     "data": {
      "image/png": "[encoded data removed]",
      "text/plain": [
       "<Figure size 432x288 with 1 Axes>"
      ]
     },
     "metadata": {},
     "output_type": "display_data"
    }
   ],
   "source": [
    "plt.plot(x1,y1*8)\n",
    "plt.title('Empirical Type 2 error as a function of k with n=500')\n",
    "plt.xlabel('Number of role vectors')\n",
    "plt.ylabel('Probability of Error')"
   ]
  }
 ],
 "metadata": {
  "kernelspec": {
   "display_name": "smolensky",
   "language": "python",
   "name": "smolensky"
  },
  "language_info": {
   "codemirror_mode": {
    "name": "ipython",
    "version": 3
   },
   "file_extension": ".py",
   "mimetype": "text/x-python",
   "name": "python",
   "nbconvert_exporter": "python",
   "pygments_lexer": "ipython3",
   "version": "3.7.3"
  }
 },
 "nbformat": 4,
 "nbformat_minor": 2
}
